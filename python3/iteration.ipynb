{
 "cells": [
  {
   "cell_type": "code",
   "execution_count": 1,
   "metadata": {},
   "outputs": [
    {
     "name": "stdout",
     "output_type": "stream",
     "text": [
      "without using iter method\n",
      "Aswin\n",
      "Raghav\n",
      "Surya\n",
      "Satish\n",
      "Mukesh\n",
      "by using iter method\n",
      "Aswin\n",
      "Raghav\n",
      "Surya\n",
      "Satish\n",
      "Mukesh\n"
     ]
    }
   ],
   "source": [
    "list_of_names = ['Aswin','Raghav','Surya','Satish','Mukesh']\n",
    "print(\"without using iter method\")\n",
    "for name in list_of_names:\n",
    "    print(name)\n",
    "print(\"by using iter method\")\n",
    "list1 =iter(list_of_names)\n",
    "for name in list1:\n",
    "    print(name)    "
   ]
  },
  {
   "cell_type": "code",
   "execution_count": 2,
   "metadata": {},
   "outputs": [
    {
     "name": "stdout",
     "output_type": "stream",
     "text": [
      "without using iter method\n",
      "He waited for the stop sign to turn to a go sign\n",
      "By using iter method\n",
      "He waited for the stop sign to turn to a go sign\n"
     ]
    }
   ],
   "source": [
    "sentence = ['He waited for the stop sign to turn to a go sign']\n",
    "print(\"without using iter method\")\n",
    "for word in sentence:\n",
    "    print(word)\n",
    "print(\"By using iter method\")\n",
    "sen = iter(sentence)\n",
    "for word in sen:\n",
    "    print(word)\n"
   ]
  },
  {
   "cell_type": "code",
   "execution_count": null,
   "metadata": {},
   "outputs": [],
   "source": []
  },
  {
   "cell_type": "code",
   "execution_count": 44,
   "metadata": {},
   "outputs": [
    {
     "name": "stdout",
     "output_type": "stream",
     "text": [
      "1\n",
      "3\n",
      "5\n",
      "7\n",
      "9\n"
     ]
    }
   ],
   "source": [
    "\n",
    "def odd_no_gen(limit):\n",
    "    i = int(1)\n",
    "    while i<= limit:\n",
    "        yield i\n",
    "        i+=2\n",
    "\n",
    "def main():\n",
    "    i = 1\n",
    "    limit = int(input(\"Enter the limit to print odd no: \"))\n",
    "    odd_no = odd_no_gen(limit)\n",
    "    for i in range(1,limit):   \n",
    "        try :\n",
    "            print(next(odd_no))\n",
    "        except StopIteration:\n",
    "            break\n",
    "\n",
    "if __name__ == '__main__':\n",
    "    main()"
   ]
  },
  {
   "cell_type": "code",
   "execution_count": 45,
   "metadata": {},
   "outputs": [
    {
     "name": "stdout",
     "output_type": "stream",
     "text": [
      "6.61Sec\n",
      "Memory Used (Current, Peak): (1885, 132488) in bytes\n"
     ]
    }
   ],
   "source": [
    "import csv\n",
    "import tracemalloc\n",
    "import time\n",
    "\n",
    "\n",
    "\n",
    "def in_value():\n",
    "    i = 1 \n",
    "    while True:\n",
    "        yield i\n",
    "        i=i+1        \n",
    "        \n",
    "\n",
    "def main():\n",
    "    start = time.time()\n",
    "    tracemalloc.clear_traces() \n",
    "    tracemalloc.start()\n",
    "    with open('10milli.txt','w') as f1:\n",
    "        for k in in_value():\n",
    "            if k == 10000001:\n",
    "                break\n",
    "            f1.write(f\"{k}\\n\")\n",
    "    end = time.time()\n",
    "    t = end - start     \n",
    "    print(\"{:.2f}Sec\".format(t)) \n",
    "    print(f\"Memory Used (Current, Peak): {tracemalloc.get_traced_memory()} in bytes\")\n",
    "    tracemalloc.stop()\n",
    "    \n",
    "            \n",
    "if __name__=='__main__':\n",
    "    main()\n"
   ]
  },
  {
   "cell_type": "code",
   "execution_count": 1,
   "metadata": {},
   "outputs": [
    {
     "name": "stdout",
     "output_type": "stream",
     "text": [
      "['1\\n', '2\\n', '3\\n', '4\\n', '5\\n', '6\\n', '7\\n', '8\\n', '9\\n', '10\\n']\n",
      "4.3947Sec\n",
      "Memory Used (Current, Peak): (10456, 23512) in bytes\n"
     ]
    }
   ],
   "source": [
    "import csv\n",
    "import tracemalloc\n",
    "import time\n",
    "\n",
    "def read_lines(file_name):\n",
    "    list_of_lines = open(file_name).readlines()\n",
    "    return list_of_lines\n",
    "    \n",
    "def main():\n",
    "    start = time.time()\n",
    "    tracemalloc.clear_traces() \n",
    "    tracemalloc.start()\n",
    "    file_name = str(input(\"Enter text file name with extention: \"))\n",
    "    l1 = read_lines(file_name)\n",
    "    print(l1)\n",
    "    end = time.time()\n",
    "    t = end - start     \n",
    "    print(\"{:.4f}Sec\".format(t)) \n",
    "    print(f\"Memory Used (Current, Peak): {tracemalloc.get_traced_memory()} in bytes\")\n",
    "    tracemalloc.stop()\n",
    "    \n",
    "\n",
    "if __name__=='__main__':\n",
    "    main()"
   ]
  },
  {
   "cell_type": "code",
   "execution_count": null,
   "metadata": {},
   "outputs": [],
   "source": [
    "import tracemalloc\n",
    "import time\n",
    "\n",
    "\n",
    "def file_gen():\n",
    "    with open('10milli.txt','r') as f:\n",
    "        for l in f:\n",
    "            line = f.readline()\n",
    "            yield line\n",
    "\n",
    "def main():\n",
    "    start = time.time()\n",
    "    tracemalloc.clear_traces() \n",
    "    tracemalloc.start()\n",
    "    list = []\n",
    "    for l in file_gen():\n",
    "        list.append(l)\n",
    "    print(list)\n",
    "    end = time.time()\n",
    "    t = end - start\n",
    "    print(\"{:.4f}Sec\".format(t)) \n",
    "    print(f\"Memory Used (Current, Peak): {tracemalloc.get_traced_memory()} in bytes\")\n",
    "    tracemalloc.stop()\n",
    "\n",
    "if __name__ ==\"__main__\":\n",
    "    main()"
   ]
  },
  {
   "cell_type": "code",
   "execution_count": 2,
   "metadata": {},
   "outputs": [
    {
     "name": "stdout",
     "output_type": "stream",
     "text": [
      "<class 'type'>\n"
     ]
    }
   ],
   "source": [
    "print(type(range))"
   ]
  },
  {
   "cell_type": "code",
   "execution_count": 1,
   "metadata": {},
   "outputs": [
    {
     "name": "stdout",
     "output_type": "stream",
     "text": [
      "[10, 11, 12, 13, 14, 15, 16, 17, 18, 19, 20]\n"
     ]
    }
   ],
   "source": [
    "class Series(object):\n",
    "    def __init__(self, n, max):\n",
    "        self.current = n\n",
    "        self.max = max\n",
    "\n",
    "    def __iter__(self):\n",
    "        return self\n",
    "\n",
    "    def __next__(self):\n",
    "        if self.current > self.max:\n",
    "            raise StopIteration\n",
    "        else:\n",
    "            self.current += 1\n",
    "            return self.current - 1\n",
    "n_list = Series(10,20)    \n",
    "print(list(n_list))\n"
   ]
  },
  {
   "cell_type": "code",
   "execution_count": 18,
   "metadata": {},
   "outputs": [
    {
     "name": "stdout",
     "output_type": "stream",
     "text": [
      "combinations of getting \n",
      "4\n",
      "2\n",
      "The likeihood = 0.5\n"
     ]
    }
   ],
   "source": [
    "from itertools import combinations_with_replacement\n",
    "\n",
    "def likeihood(c,b):\n",
    "    p = c / b\n",
    "    return p \n",
    "    \n",
    "\n",
    "def main():\n",
    "    a = int(input(\"enter the no of times the coin is tossed :\"))\n",
    "    print(\"combinations of getting \")\n",
    "    comb = list(combinations_with_replacement('HT', a))\n",
    "    b = (len(comb)+1)  \n",
    "    print(b)\n",
    "    c = int(input(\"enter the how many pattern would like to find the likelihood of: \"))\n",
    "    print(c)\n",
    "    d = likeihood(c,b)\n",
    "    print(f\"The likeihood = {d}\")\n",
    "\n",
    "\n",
    "if __name__=='__main__':\n",
    "    main()\n"
   ]
  },
  {
   "cell_type": "code",
   "execution_count": 12,
   "metadata": {},
   "outputs": [
    {
     "name": "stdout",
     "output_type": "stream",
     "text": [
      "The students can be paired in the following way : [(1, 2), (3, 4), (5, 6), (7, 8), (9, 10), (11, 12), (13, 14), (15, 16), (17, 18), (19, 20)]\n"
     ]
    }
   ],
   "source": [
    "import itertools \n",
    "from more_itertools import grouper as f\n",
    "\n",
    "def main():\n",
    "    l1 = []\n",
    "    num = int(input(\"Enter the no of students present in the class: \"))\n",
    "    s = int(input(\"Enter the how many students must be in each pair\"))\n",
    "    for i in itertools.count(1, 1):\n",
    "        if i > num:\n",
    "            break\n",
    "        else:\n",
    "            l1.append(i)\n",
    "    print(f\"The students can be paired in the following way : {list(f(l1,s))}\")\n",
    "\n",
    "if __name__ =='__main__':\n",
    "    main()\n"
   ]
  },
  {
   "cell_type": "markdown",
   "metadata": {},
   "source": [
    "g\n"
   ]
  },
  {
   "cell_type": "code",
   "execution_count": 14,
   "metadata": {},
   "outputs": [
    {
     "name": "stdout",
     "output_type": "stream",
     "text": [
      "0 1 0 1 0 1 0 1 "
     ]
    }
   ],
   "source": [
    "import itertools\n",
    "   \n",
    "count = 0\n",
    "for i in itertools.cycle('01'):\n",
    "    if count > 7:\n",
    "        break\n",
    "    else:\n",
    "        print(i, end = \" \")\n",
    "        count += 1"
   ]
  },
  {
   "cell_type": "code",
   "execution_count": 15,
   "metadata": {},
   "outputs": [
    {
     "name": "stdout",
     "output_type": "stream",
     "text": [
      "Printing the numbers repeatedly : \n",
      "[10, 10, 10, 10, 10, 10, 10, 10, 10, 10]\n"
     ]
    }
   ],
   "source": [
    "import itertools  \n",
    "a = int(input(\"Enter the no to be repeated : \"))\n",
    "b = int(input(\"no of times to be repeated : \"))\n",
    "print (\"Printing the numbers repeatedly : \") \n",
    "print (list(itertools.repeat(a, b)))"
   ]
  },
  {
   "cell_type": "code",
   "execution_count": 19,
   "metadata": {},
   "outputs": [
    {
     "name": "stdout",
     "output_type": "stream",
     "text": [
      "The  product using repeat:\n",
      "[('H', 'H'), ('H', 'T'), ('T', 'H'), ('T', 'T')]\n",
      "\n"
     ]
    }
   ],
   "source": [
    "from itertools import product\n",
    "   \n",
    "print(\"The  product using repeat:\")\n",
    "print(list(product(['H', 'T'], repeat = 2)))\n",
    "print()"
   ]
  },
  {
   "cell_type": "code",
   "execution_count": 22,
   "metadata": {},
   "outputs": [
    {
     "name": "stdout",
     "output_type": "stream",
     "text": [
      "combinations of getting \n",
      "[('H', 'H'), ('H', 'T'), ('T', 'H'), ('T', 'T')]\n",
      "The likeihood = 0.5\n"
     ]
    }
   ],
   "source": [
    "from itertools import product\n",
    "\n",
    "def likeihood(c,b):\n",
    "    p = c / b\n",
    "    return p \n",
    "    \n",
    "\n",
    "def main():\n",
    "    a = int(input(\"enter the no of times the coin is tossed :\"))\n",
    "    print(\"combinations of getting \")\n",
    "    comb = list(product(['H', 'T'], repeat = a))\n",
    "    print(comb)\n",
    "    b = (len(comb))  \n",
    "    c = int(input(\"enter the how many pattern would like to find the likelihood of: \"))\n",
    "    d = likeihood(c,b)\n",
    "    print(f\"The likeihood = {d}\")\n",
    "\n",
    "\n",
    "if __name__=='__main__':\n",
    "    main()"
   ]
  },
  {
   "cell_type": "code",
   "execution_count": 38,
   "metadata": {},
   "outputs": [
    {
     "name": "stdout",
     "output_type": "stream",
     "text": [
      "Program to check the following products are in stock\n",
      "Milk\n",
      "Chocolates\n",
      "Oil\n",
      "salt\n",
      "batteries\n",
      "The available products are:\n",
      "Chocolates\n",
      "Oil\n",
      "salt\n"
     ]
    }
   ],
   "source": [
    "import itertools\n",
    "\n",
    "def main():\n",
    "    print(\"Program to check the following products are in stock\")\n",
    "    items = [\"Milk\",\"Chocolates\",\"Oil\",\"salt\",\"batteries\"]\n",
    "    response = []\n",
    "    i = 0\n",
    "    for item in items:\n",
    "        print(item)\n",
    "        response.append(int(input(\"Available: 0.False\\n1.True: \")))\n",
    "    available = list(itertools.compress(items, response))\n",
    "    print(\"The available products are:\")\n",
    "    for item in available:\n",
    "        print(item)\n",
    "\n",
    "if __name__ == \"__main__\":\n",
    "    main()\n"
   ]
  },
  {
   "cell_type": "code",
   "execution_count": null,
   "metadata": {},
   "outputs": [],
   "source": []
  }
 ],
 "metadata": {
  "kernelspec": {
   "display_name": "Python 3.9.12 ('base': conda)",
   "language": "python",
   "name": "python3"
  },
  "language_info": {
   "codemirror_mode": {
    "name": "ipython",
    "version": 3
   },
   "file_extension": ".py",
   "mimetype": "text/x-python",
   "name": "python",
   "nbconvert_exporter": "python",
   "pygments_lexer": "ipython3",
   "version": "3.9.12"
  },
  "orig_nbformat": 4,
  "vscode": {
   "interpreter": {
    "hash": "684eaf91f0c82c251197331a9b170263848bd9839206be4b47dd7c1270f07b54"
   }
  }
 },
 "nbformat": 4,
 "nbformat_minor": 2
}
