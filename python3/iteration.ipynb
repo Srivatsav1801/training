{
 "cells": [
  {
   "cell_type": "code",
   "execution_count": 1,
   "metadata": {},
   "outputs": [
    {
     "name": "stdout",
     "output_type": "stream",
     "text": [
      "without using iter method\n",
      "Aswin\n",
      "Raghav\n",
      "Surya\n",
      "Satish\n",
      "Mukesh\n",
      "by using iter method\n",
      "Aswin\n",
      "Raghav\n",
      "Surya\n",
      "Satish\n",
      "Mukesh\n"
     ]
    }
   ],
   "source": [
    "list_of_names = ['Aswin','Raghav','Surya','Satish','Mukesh']\n",
    "print(\"without using iter method\")\n",
    "for name in list_of_names:\n",
    "    print(name)\n",
    "print(\"by using iter method\")\n",
    "list1 =iter(list_of_names)\n",
    "for name in list1:\n",
    "    print(name)    "
   ]
  },
  {
   "cell_type": "code",
   "execution_count": 2,
   "metadata": {},
   "outputs": [
    {
     "name": "stdout",
     "output_type": "stream",
     "text": [
      "without using iter method\n",
      "He waited for the stop sign to turn to a go sign\n",
      "By using iter method\n",
      "He waited for the stop sign to turn to a go sign\n"
     ]
    }
   ],
   "source": [
    "sentence = ['He waited for the stop sign to turn to a go sign']\n",
    "print(\"without using iter method\")\n",
    "for word in sentence:\n",
    "    print(word)\n",
    "print(\"By using iter method\")\n",
    "sen = iter(sentence)\n",
    "for word in sen:\n",
    "    print(word)\n"
   ]
  },
  {
   "cell_type": "code",
   "execution_count": null,
   "metadata": {},
   "outputs": [],
   "source": []
  },
  {
   "cell_type": "code",
   "execution_count": 44,
   "metadata": {},
   "outputs": [
    {
     "name": "stdout",
     "output_type": "stream",
     "text": [
      "1\n",
      "3\n",
      "5\n",
      "7\n",
      "9\n"
     ]
    }
   ],
   "source": [
    "\n",
    "def odd_no_gen(limit):\n",
    "    i = int(1)\n",
    "    while i<= limit:\n",
    "        yield i\n",
    "        i+=2\n",
    "\n",
    "def main():\n",
    "    i = 1\n",
    "    limit = int(input(\"Enter the limit to print odd no: \"))\n",
    "    odd_no = odd_no_gen(limit)\n",
    "    for i in range(1,limit):   \n",
    "        try :\n",
    "            print(next(odd_no))\n",
    "        except StopIteration:\n",
    "            break\n",
    "\n",
    "if __name__ == '__main__':\n",
    "    main()"
   ]
  },
  {
   "cell_type": "code",
   "execution_count": 45,
   "metadata": {},
   "outputs": [
    {
     "name": "stdout",
     "output_type": "stream",
     "text": [
      "6.61Sec\n",
      "Memory Used (Current, Peak): (1885, 132488) in bytes\n"
     ]
    }
   ],
   "source": [
    "import csv\n",
    "import tracemalloc\n",
    "import time\n",
    "\n",
    "\n",
    "\n",
    "def in_value():\n",
    "    i = 1 \n",
    "    while True:\n",
    "        yield i\n",
    "        i=i+1        \n",
    "        \n",
    "\n",
    "def main():\n",
    "    start = time.time()\n",
    "    tracemalloc.clear_traces() \n",
    "    tracemalloc.start()\n",
    "    with open('10milli.txt','w') as f1:\n",
    "        for k in in_value():\n",
    "            if k == 10000001:\n",
    "                break\n",
    "            f1.write(f\"{k}\\n\")\n",
    "    end = time.time()\n",
    "    t = end - start     \n",
    "    print(\"{:.2f}Sec\".format(t)) \n",
    "    print(f\"Memory Used (Current, Peak): {tracemalloc.get_traced_memory()} in bytes\")\n",
    "    tracemalloc.stop()\n",
    "    \n",
    "            \n",
    "if __name__=='__main__':\n",
    "    main()\n"
   ]
  },
  {
   "cell_type": "code",
   "execution_count": 1,
   "metadata": {},
   "outputs": [
    {
     "name": "stdout",
     "output_type": "stream",
     "text": [
      "['1\\n', '2\\n', '3\\n', '4\\n', '5\\n', '6\\n', '7\\n', '8\\n', '9\\n', '10\\n']\n",
      "4.3947Sec\n",
      "Memory Used (Current, Peak): (10456, 23512) in bytes\n"
     ]
    }
   ],
   "source": [
    "import csv\n",
    "import tracemalloc\n",
    "import time\n",
    "\n",
    "def read_lines(file_name):\n",
    "    list_of_lines = open(file_name).readlines()\n",
    "    return list_of_lines\n",
    "    \n",
    "def main():\n",
    "    start = time.time()\n",
    "    tracemalloc.clear_traces() \n",
    "    tracemalloc.start()\n",
    "    file_name = str(input(\"Enter text file name with extention: \"))\n",
    "    l1 = read_lines(file_name)\n",
    "    print(l1)\n",
    "    end = time.time()\n",
    "    t = end - start     \n",
    "    print(\"{:.4f}Sec\".format(t)) \n",
    "    print(f\"Memory Used (Current, Peak): {tracemalloc.get_traced_memory()} in bytes\")\n",
    "    tracemalloc.stop()\n",
    "    \n",
    "\n",
    "if __name__=='__main__':\n",
    "    main()"
   ]
  },
  {
   "cell_type": "code",
   "execution_count": null,
   "metadata": {},
   "outputs": [],
   "source": [
    "import tracemalloc\n",
    "import time\n",
    "\n",
    "\n",
    "def file_gen():\n",
    "    with open('10milli.txt','r') as f:\n",
    "        for l in f:\n",
    "            line = f.readline()\n",
    "            yield line\n",
    "\n",
    "def main():\n",
    "    start = time.time()\n",
    "    tracemalloc.clear_traces() \n",
    "    tracemalloc.start()\n",
    "    list = []\n",
    "    for l in file_gen():\n",
    "        list.append(l)\n",
    "    print(list)\n",
    "    end = time.time()\n",
    "    t = end - start\n",
    "    print(\"{:.4f}Sec\".format(t)) \n",
    "    print(f\"Memory Used (Current, Peak): {tracemalloc.get_traced_memory()} in bytes\")\n",
    "    tracemalloc.stop()\n",
    "\n",
    "if __name__ ==\"__main__\":\n",
    "    main()"
   ]
  },
  {
   "cell_type": "code",
   "execution_count": 2,
   "metadata": {},
   "outputs": [
    {
     "name": "stdout",
     "output_type": "stream",
     "text": [
      "<class 'type'>\n"
     ]
    }
   ],
   "source": [
    "print(type(range))"
   ]
  },
  {
   "cell_type": "code",
   "execution_count": 1,
   "metadata": {},
   "outputs": [
    {
     "name": "stdout",
     "output_type": "stream",
     "text": [
      "[10, 11, 12, 13, 14, 15, 16, 17, 18, 19, 20]\n"
     ]
    }
   ],
   "source": [
    "class Series(object):\n",
    "    def __init__(self, n, max):\n",
    "        self.current = n\n",
    "        self.max = max\n",
    "\n",
    "    def __iter__(self):\n",
    "        return self\n",
    "\n",
    "    def __next__(self):\n",
    "        if self.current > self.max:\n",
    "            raise StopIteration\n",
    "        else:\n",
    "            self.current += 1\n",
    "            return self.current - 1\n",
    "n_list = Series(10,20)    \n",
    "print(list(n_list))\n"
   ]
  },
  {
   "cell_type": "code",
   "execution_count": 15,
   "metadata": {},
   "outputs": [
    {
     "name": "stdout",
     "output_type": "stream",
     "text": [
      "combinations of getting \n",
      "[('H', 'H', 'H', 'H', 'H'), ('H', 'H', 'H', 'H', 'T'), ('H', 'H', 'H', 'T', 'T'), ('H', 'H', 'T', 'T', 'T'), ('H', 'T', 'T', 'T', 'T'), ('T', 'T', 'T', 'T', 'T')]\n"
     ]
    }
   ],
   "source": [
    "from itertools import combinations, combinations_with_replacement\n",
    "\n",
    "a = int(input(\"enter the no of times the coin is tossed :\"))\n",
    "print(\"combinations of getting \")\n",
    "print(list(combinations_with_replacement(['H','T'], a)))    "
   ]
  },
  {
   "cell_type": "code",
   "execution_count": 2,
   "metadata": {},
   "outputs": [
    {
     "data": {
      "text/plain": [
       "[0, 1, 2]"
      ]
     },
     "execution_count": 2,
     "metadata": {},
     "output_type": "execute_result"
    }
   ],
   "source": [
    "ap = ArithmeticProgression(0, 1, 3)\n",
    "list(ap)"
   ]
  },
  {
   "cell_type": "code",
   "execution_count": 4,
   "metadata": {},
   "outputs": [
    {
     "data": {
      "text/plain": [
       "[1.0, 1.5, 2.0, 2.5]"
      ]
     },
     "execution_count": 4,
     "metadata": {},
     "output_type": "execute_result"
    }
   ],
   "source": [
    "ap = ArithmeticProgression(1, 0.5, 3)\n",
    "list(ap)"
   ]
  },
  {
   "cell_type": "code",
   "execution_count": null,
   "metadata": {},
   "outputs": [],
   "source": []
  }
 ],
 "metadata": {
  "kernelspec": {
   "display_name": "Python 3.8.10 64-bit",
   "language": "python",
   "name": "python3"
  },
  "language_info": {
   "codemirror_mode": {
    "name": "ipython",
    "version": 3
   },
   "file_extension": ".py",
   "mimetype": "text/x-python",
   "name": "python",
   "nbconvert_exporter": "python",
   "pygments_lexer": "ipython3",
   "version": "3.8.10"
  },
  "orig_nbformat": 4,
  "vscode": {
   "interpreter": {
    "hash": "916dbcbb3f70747c44a77c7bcd40155683ae19c65e1c03b4aa3499c5328201f1"
   }
  }
 },
 "nbformat": 4,
 "nbformat_minor": 2
}
