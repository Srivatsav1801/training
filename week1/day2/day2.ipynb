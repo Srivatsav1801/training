{
 "cells": [
  {
   "cell_type": "code",
   "execution_count": 12,
   "metadata": {},
   "outputs": [
    {
     "name": "stdout",
     "output_type": "stream",
     "text": [
      "John is in cs\n",
      "Rahul is in science\n",
      "micheal is in law\n",
      "trevor is in arts\n"
     ]
    }
   ],
   "source": [
    "students = []\n",
    "\n",
    "with open(\"students.csv\") as file:\n",
    "    for line in file:\n",
    "        name, dept = line.rstrip().split(\",\")\n",
    "        students.append({\"name\": name, \"dept\": dept})\n",
    "\n",
    "\n",
    "def get_name(student):\n",
    "    return student[\"name\"]\n",
    "\n",
    "\n",
    "for student in sorted(students, key=get_name):\n",
    "    print(f\"{student['name']} is in {student['dept']}\")\n",
    "\n"
   ]
  },
  {
   "cell_type": "code",
   "execution_count": 13,
   "metadata": {},
   "outputs": [
    {
     "name": "stdout",
     "output_type": "stream",
     "text": [
      "lambda function\n"
     ]
    }
   ],
   "source": [
    "print(\"lambda function\")"
   ]
  },
  {
   "cell_type": "code",
   "execution_count": 15,
   "metadata": {},
   "outputs": [
    {
     "name": "stdout",
     "output_type": "stream",
     "text": [
      "John is in cs\n",
      "Rahul is in science\n",
      "micheal is in law\n",
      "trevor is in arts\n"
     ]
    }
   ],
   "source": [
    "students = []\n",
    "\n",
    "with open(\"students.csv\") as file:\n",
    "    for line in file:\n",
    "        name, dept = line.rstrip().split(\",\")\n",
    "        students.append({\"name\": name, \"dept\": dept})\n",
    "#lamda function is an anonymous function, in this program it access the student name and return the key\n",
    "for student in sorted(students, key=lambda student: student[\"name\"]):\n",
    "    print(f\"{student['name']} is in {student['dept']}\")\n"
   ]
  },
  {
   "cell_type": "code",
   "execution_count": 16,
   "metadata": {},
   "outputs": [
    {
     "name": "stdout",
     "output_type": "stream",
     "text": [
      "csv reader\n"
     ]
    }
   ],
   "source": [
    "print(\"csv reader\")"
   ]
  },
  {
   "cell_type": "code",
   "execution_count": 17,
   "metadata": {},
   "outputs": [
    {
     "name": "stdout",
     "output_type": "stream",
     "text": [
      "John is from door no two,privet drive\n",
      "Mohan is from Kilpauk\n",
      "walter is from Anna Nagar\n"
     ]
    }
   ],
   "source": [
    "import csv\n",
    "\n",
    "students = []\n",
    "\n",
    "with open(\"studentslocation.csv\") as file:\n",
    "    reader = csv.reader(file)\n",
    "    for row in reader:\n",
    "        students.append({\"name\": row[0], \"home\": row[1]})\n",
    "\n",
    "for student in sorted(students, key=lambda student: student[\"name\"]):\n",
    "    print(f\"{student['name']} is from {student['home']}\")"
   ]
  },
  {
   "cell_type": "code",
   "execution_count": 18,
   "metadata": {},
   "outputs": [
    {
     "name": "stdout",
     "output_type": "stream",
     "text": [
      "using Dictreader\n"
     ]
    }
   ],
   "source": [
    "print(\"using Dictreader\")"
   ]
  },
  {
   "cell_type": "code",
   "execution_count": 22,
   "metadata": {},
   "outputs": [
    {
     "name": "stdout",
     "output_type": "stream",
     "text": [
      "John is in door no two,privet drive\n",
      "Mohan is in Kilpauk\n",
      "walter is in Anna Nagar\n"
     ]
    }
   ],
   "source": [
    "import csv\n",
    "\n",
    "students = []\n",
    "\n",
    "with open(\"studentslocation1.csv\") as file:\n",
    "    reader = csv.DictReader(file)\n",
    "    for row in reader:\n",
    "        students.append({\"name\": row[\"name\"], \"home\": row[\"home\"]})\n",
    "\n",
    "for student in sorted(students, key=lambda student: student[\"name\"]):\n",
    "    print(f\"{student['name']} is in {student['home']}\")\n"
   ]
  },
  {
   "cell_type": "code",
   "execution_count": 24,
   "metadata": {},
   "outputs": [
    {
     "name": "stdout",
     "output_type": "stream",
     "text": [
      "Email validation\n"
     ]
    }
   ],
   "source": [
    "print(\"Email validation\")"
   ]
  },
  {
   "cell_type": "code",
   "execution_count": 27,
   "metadata": {},
   "outputs": [
    {
     "name": "stdout",
     "output_type": "stream",
     "text": [
      "Invalid\n",
      "rackgmail.com\n"
     ]
    }
   ],
   "source": [
    "email = input(\"What's your email? \").strip()\n",
    "\n",
    "if \"@\" in email:\n",
    "    print(\"Valid\")\n",
    "    print(email)\n",
    "else:\n",
    "    print(\"Invalid\")\n",
    "    print(email)"
   ]
  },
  {
   "cell_type": "code",
   "execution_count": 29,
   "metadata": {},
   "outputs": [
    {
     "name": "stdout",
     "output_type": "stream",
     "text": [
      "Valid\n",
      "Rocklee@.com\n"
     ]
    }
   ],
   "source": [
    "email = input(\"What's your email? \").strip()\n",
    "\n",
    "if \"@\" in email and \".\" in email:\n",
    "    print(\"Valid\")\n",
    "    print(email)\n",
    "else:\n",
    "    print(\"Invalid\")\n",
    "    print(email)"
   ]
  },
  {
   "cell_type": "code",
   "execution_count": 31,
   "metadata": {},
   "outputs": [
    {
     "name": "stdout",
     "output_type": "stream",
     "text": [
      "Valid\n",
      "rocklee@.com\n"
     ]
    }
   ],
   "source": [
    "email = input(\"What's your email? \").strip()\n",
    "\n",
    "username, domain = email.split(\"@\")\n",
    "\n",
    "if username and \".\" in domain:\n",
    "    print(\"Valid\")\n",
    "    print(email)\n",
    "else:\n",
    "    print(\"Invalid\")\n",
    "    print(email)"
   ]
  },
  {
   "cell_type": "code",
   "execution_count": 34,
   "metadata": {},
   "outputs": [
    {
     "name": "stdout",
     "output_type": "stream",
     "text": [
      "Valid\n",
      "rocklee@.edu\n"
     ]
    }
   ],
   "source": [
    "email = input(\"What's your email? \").strip()\n",
    "\n",
    "username, domain = email.split(\"@\")\n",
    "\n",
    "if username and domain.endswith(\".edu\"):\n",
    "    \n",
    "    print(\"Valid\")\n",
    "    print(email)\n",
    "else:\n",
    "    print(\"Invalid\")\n",
    "    print(email)"
   ]
  },
  {
   "cell_type": "code",
   "execution_count": 35,
   "metadata": {},
   "outputs": [
    {
     "name": "stdout",
     "output_type": "stream",
     "text": [
      "Invalid\n",
      "rocklee@.com\n"
     ]
    }
   ],
   "source": [
    "email = input(\"What's your email? \").strip()\n",
    "\n",
    "username, domain = email.split(\"@\")\n",
    "\n",
    "if username and domain.endswith(\".edu\"):\n",
    "    \n",
    "    print(\"Valid\")\n",
    "    print(email)\n",
    "else:\n",
    "    print(\"Invalid\")\n",
    "    print(email)"
   ]
  },
  {
   "cell_type": "code",
   "execution_count": 36,
   "metadata": {},
   "outputs": [
    {
     "name": "stdout",
     "output_type": "stream",
     "text": [
      "using the 're' library\n"
     ]
    }
   ],
   "source": [
    "print(\"using the 're' library\")"
   ]
  },
  {
   "cell_type": "code",
   "execution_count": 37,
   "metadata": {},
   "outputs": [
    {
     "name": "stdout",
     "output_type": "stream",
     "text": [
      "Valid\n"
     ]
    }
   ],
   "source": [
    "import re\n",
    "\n",
    "email = input(\"What's your email? \").strip()\n",
    "\n",
    "if re.search(\".+@.+\", email):\n",
    "    print(\"Valid\")\n",
    "else:\n",
    "    print(\"Invalid\")"
   ]
  },
  {
   "cell_type": "code",
   "execution_count": 39,
   "metadata": {},
   "outputs": [
    {
     "name": "stdout",
     "output_type": "stream",
     "text": [
      "Invalid\n",
      "rocklee@.com\n"
     ]
    }
   ],
   "source": [
    "import re\n",
    "\n",
    "email = input(\"What's your email? \").strip()\n",
    "\n",
    "if re.search(\".+@.+\\.edu\", email):\n",
    "    print(\"Valid\")\n",
    "    print(email)\n",
    "else:\n",
    "    print(\"Invalid\")\n",
    "    print(email)"
   ]
  },
  {
   "cell_type": "code",
   "execution_count": 40,
   "metadata": {},
   "outputs": [
    {
     "name": "stdout",
     "output_type": "stream",
     "text": [
      "Invalid\n",
      "rocklee@gmail.com\n"
     ]
    }
   ],
   "source": [
    "import re\n",
    "\n",
    "email = input(\"What's your email? \").strip()\n",
    "\n",
    "if re.search(\".+@.+\\.edu\", email):\n",
    "    print(\"Valid\")\n",
    "    print(email)\n",
    "else:\n",
    "    print(\"Invalid\")\n",
    "    print(email)"
   ]
  },
  {
   "cell_type": "code",
   "execution_count": 43,
   "metadata": {},
   "outputs": [
    {
     "name": "stdout",
     "output_type": "stream",
     "text": [
      "Invalid\n"
     ]
    }
   ],
   "source": [
    "import re\n",
    "\n",
    "email = input(\"What's your email? \").strip()\n",
    "\n",
    "if re.search(r\".+@.+\\.edu\", email):\n",
    "    print(\"Valid\")\n",
    "else:\n",
    "    print(\"Invalid\")"
   ]
  },
  {
   "cell_type": "code",
   "execution_count": 50,
   "metadata": {},
   "outputs": [
    {
     "name": "stdout",
     "output_type": "stream",
     "text": [
      "Invalid\n"
     ]
    }
   ],
   "source": [
    "import re\n",
    "\n",
    "email = input(\"What's your email? \").strip()\n",
    "# '\\w is a word character,as well as number,and underscore\n",
    "if re.search(r\"^\\w+@\\w.+\\.edu$\", email):\n",
    "    print(\"Valid\")\n",
    "else:\n",
    "    print(\"Invalid\")\n"
   ]
  },
  {
   "cell_type": "code",
   "execution_count": 54,
   "metadata": {},
   "outputs": [
    {
     "name": "stdout",
     "output_type": "stream",
     "text": [
      "Valid\n",
      "rocklee@gmail.com\n"
     ]
    }
   ],
   "source": [
    "import re\n",
    "\n",
    "email = input(\"What's your email? \").strip()\n",
    "#\n",
    "if re.search(r\"^\\w+@\\w.+\\.(com|edu|gov|net|org)$\", email):\n",
    "    print(\"Valid\")\n",
    "    print(email)\n",
    "    \n",
    "else:\n",
    "    print(\"Invalid\")\n",
    "    print(email)"
   ]
  },
  {
   "cell_type": "code",
   "execution_count": 56,
   "metadata": {},
   "outputs": [
    {
     "name": "stdout",
     "output_type": "stream",
     "text": [
      "Invalid\n",
      "\n"
     ]
    }
   ],
   "source": [
    "import re\n",
    "\n",
    "email = input(\"What's your email? \").strip()\n",
    "#\n",
    "if re.search(r\"^\\w+@\\w.+\\.(com|edu|gov|net|org)$\", email):\n",
    "    print(\"Valid\")\n",
    "    print(email)\n",
    "    \n",
    "else:\n",
    "    print(\"Invalid\")\n",
    "    print(email)"
   ]
  },
  {
   "cell_type": "code",
   "execution_count": 57,
   "metadata": {},
   "outputs": [
    {
     "name": "stdout",
     "output_type": "stream",
     "text": [
      "cleaning up user's data\n"
     ]
    }
   ],
   "source": [
    "print(\"cleaning up user's data\")"
   ]
  },
  {
   "cell_type": "code",
   "execution_count": 63,
   "metadata": {},
   "outputs": [
    {
     "name": "stdout",
     "output_type": "stream",
     "text": [
      "name before clean up: Uchiha , Madara \n",
      "name after clean up: Madara Uchiha \n"
     ]
    }
   ],
   "source": [
    "name = input(\"Enter your name\").strip()\n",
    "print(f\"name before clean up: {name} \")\n",
    "if \",\" in name:\n",
    "    last,first = name.split(\", \")\n",
    "    name = f\"{first} {last}\"\n",
    "print(f\"name after clean up: {name}\")"
   ]
  },
  {
   "cell_type": "code",
   "execution_count": 64,
   "metadata": {},
   "outputs": [
    {
     "name": "stdout",
     "output_type": "stream",
     "text": [
      "Object-oriented programming\n"
     ]
    }
   ],
   "source": [
    "print(\"Object-oriented programming\")"
   ]
  },
  {
   "cell_type": "code",
   "execution_count": 67,
   "metadata": {},
   "outputs": [
    {
     "name": "stdout",
     "output_type": "stream",
     "text": [
      "Harry  from Gryffindor\n"
     ]
    }
   ],
   "source": [
    "name = input(\"name: \")\n",
    "house = input(\"house:\")\n",
    "print(f\"{name} from {house}\")\n",
    " "
   ]
  },
  {
   "cell_type": "code",
   "execution_count": 70,
   "metadata": {},
   "outputs": [
    {
     "name": "stdout",
     "output_type": "stream",
     "text": [
      "Harry  from Griffindor\n"
     ]
    }
   ],
   "source": [
    "def main():\n",
    "    name = get_name()\n",
    "    house = get_house()\n",
    "    print(f\"{name} from {house}\")\n",
    "\n",
    "\n",
    "def get_name():\n",
    "    return input(\"Name: \")\n",
    "\n",
    "\n",
    "def get_house():\n",
    "    return input(\"House: \")\n",
    "\n",
    "\n",
    "if __name__ == \"__main__\":\n",
    "    main()"
   ]
  },
  {
   "cell_type": "code",
   "execution_count": 75,
   "metadata": {},
   "outputs": [
    {
     "name": "stdout",
     "output_type": "stream",
     "text": [
      "Ron from Gryffindor\n"
     ]
    }
   ],
   "source": [
    "def main():\n",
    "    student = get_student()\n",
    "    print(f\"{student[0]} from {student[1]}\")\n",
    "\n",
    "#Tuple concept\n",
    "def get_student():\n",
    "    name = input(\"Name: \").strip()\n",
    "    house = input(\"House: \").strip()\n",
    "    return (name, house)\n",
    "\n",
    "\n",
    "if __name__ == \"__main__\":\n",
    "    main()"
   ]
  },
  {
   "cell_type": "code",
   "execution_count": 80,
   "metadata": {},
   "outputs": [
    {
     "ename": "TypeError",
     "evalue": "'tuple' object does not support item assignment",
     "output_type": "error",
     "traceback": [
      "\u001b[0;31m---------------------------------------------------------------------------\u001b[0m",
      "\u001b[0;31mTypeError\u001b[0m                                 Traceback (most recent call last)",
      "\u001b[1;32m/home/local/ZOHOCORP/srivat-pt6061/Documents/Week1/Day2/day2.ipynb Cell 28\u001b[0m in \u001b[0;36m<cell line: 15>\u001b[0;34m()\u001b[0m\n\u001b[1;32m     <a href='vscode-notebook-cell:/home/local/ZOHOCORP/srivat-pt6061/Documents/Week1/Day2/day2.ipynb#X41sZmlsZQ%3D%3D?line=11'>12</a>\u001b[0m     \u001b[39mreturn\u001b[39;00m name, house\n\u001b[1;32m     <a href='vscode-notebook-cell:/home/local/ZOHOCORP/srivat-pt6061/Documents/Week1/Day2/day2.ipynb#X41sZmlsZQ%3D%3D?line=14'>15</a>\u001b[0m \u001b[39mif\u001b[39;00m \u001b[39m__name__\u001b[39m \u001b[39m==\u001b[39m \u001b[39m\"\u001b[39m\u001b[39m__main__\u001b[39m\u001b[39m\"\u001b[39m:\n\u001b[0;32m---> <a href='vscode-notebook-cell:/home/local/ZOHOCORP/srivat-pt6061/Documents/Week1/Day2/day2.ipynb#X41sZmlsZQ%3D%3D?line=15'>16</a>\u001b[0m     main()\n",
      "\u001b[1;32m/home/local/ZOHOCORP/srivat-pt6061/Documents/Week1/Day2/day2.ipynb Cell 28\u001b[0m in \u001b[0;36mmain\u001b[0;34m()\u001b[0m\n\u001b[1;32m      <a href='vscode-notebook-cell:/home/local/ZOHOCORP/srivat-pt6061/Documents/Week1/Day2/day2.ipynb#X41sZmlsZQ%3D%3D?line=1'>2</a>\u001b[0m student \u001b[39m=\u001b[39m get_student()\n\u001b[1;32m      <a href='vscode-notebook-cell:/home/local/ZOHOCORP/srivat-pt6061/Documents/Week1/Day2/day2.ipynb#X41sZmlsZQ%3D%3D?line=2'>3</a>\u001b[0m \u001b[39mif\u001b[39;00m student[\u001b[39m0\u001b[39m] \u001b[39m==\u001b[39m \u001b[39m\"\u001b[39m\u001b[39mPadma\u001b[39m\u001b[39m\"\u001b[39m:\n\u001b[0;32m----> <a href='vscode-notebook-cell:/home/local/ZOHOCORP/srivat-pt6061/Documents/Week1/Day2/day2.ipynb#X41sZmlsZQ%3D%3D?line=3'>4</a>\u001b[0m     student[\u001b[39m1\u001b[39;49m] \u001b[39m=\u001b[39m \u001b[39m\"\u001b[39m\u001b[39mRavenclaw\u001b[39m\u001b[39m\"\u001b[39m\n\u001b[1;32m      <a href='vscode-notebook-cell:/home/local/ZOHOCORP/srivat-pt6061/Documents/Week1/Day2/day2.ipynb#X41sZmlsZQ%3D%3D?line=4'>5</a>\u001b[0m     \u001b[39m#changes does not take place as tuples are immutable\u001b[39;00m\n\u001b[1;32m      <a href='vscode-notebook-cell:/home/local/ZOHOCORP/srivat-pt6061/Documents/Week1/Day2/day2.ipynb#X41sZmlsZQ%3D%3D?line=5'>6</a>\u001b[0m \u001b[39mprint\u001b[39m(\u001b[39mf\u001b[39m\u001b[39m\"\u001b[39m\u001b[39m{\u001b[39;00mstudent[\u001b[39m0\u001b[39m]\u001b[39m}\u001b[39;00m\u001b[39m from \u001b[39m\u001b[39m{\u001b[39;00mstudent[\u001b[39m1\u001b[39m]\u001b[39m}\u001b[39;00m\u001b[39m\"\u001b[39m)\n",
      "\u001b[0;31mTypeError\u001b[0m: 'tuple' object does not support item assignment"
     ]
    }
   ],
   "source": [
    "def main():\n",
    "    student = get_student()\n",
    "    if student[0] == \"Padma\":\n",
    "        student[1] = \"Ravenclaw\"\n",
    "        #changes does not take place as tuples are immutable, so the error occurs\n",
    "    print(f\"{student[0]} from {student[1]}\")\n",
    "\n",
    "\n",
    "def get_student():\n",
    "    name = input(\"Name: \").strip()\n",
    "    house = input(\"House: \").strip()\n",
    "    return name, house\n",
    "\n",
    "\n",
    "if __name__ == \"__main__\":\n",
    "    main()"
   ]
  },
  {
   "cell_type": "code",
   "execution_count": 82,
   "metadata": {},
   "outputs": [
    {
     "name": "stdout",
     "output_type": "stream",
     "text": [
      "Padma from Ravenclaw\n"
     ]
    }
   ],
   "source": [
    "def main():\n",
    "    student = get_student()\n",
    "    if student[0] == \"Padma\":\n",
    "        student[1] = \"Ravenclaw\"\n",
    "    print(f\"{student[0]} from {student[1]}\")\n",
    "#using list instead of tuple,therefore the house changes to Ravenclaw\n",
    "\n",
    "def get_student():\n",
    "    name = input(\"Name: \").strip()\n",
    "    house = input(\"House: \").strip()\n",
    "    return [name, house]\n",
    "\n",
    "\n",
    "if __name__ == \"__main__\":\n",
    "    main()"
   ]
  },
  {
   "cell_type": "code",
   "execution_count": 83,
   "metadata": {},
   "outputs": [
    {
     "name": "stdout",
     "output_type": "stream",
     "text": [
      "Roanald from Ravenclaw\n"
     ]
    }
   ],
   "source": [
    "def main():\n",
    "    student = get_student()\n",
    "    print(f\"{student['name']} from {student['house']}\")\n",
    "\n",
    "#dictionarys can also be used to store values\n",
    "def get_student():\n",
    "    student = {}\n",
    "    student[\"name\"] = input(\"Name: \")\n",
    "    student[\"house\"] = input(\"House: \")\n",
    "    return student\n",
    "\n",
    "\n",
    "if __name__ == \"__main__\":\n",
    "    main()"
   ]
  },
  {
   "cell_type": "code",
   "execution_count": 84,
   "metadata": {},
   "outputs": [
    {
     "name": "stdout",
     "output_type": "stream",
     "text": [
      "John from Slytherin\n"
     ]
    }
   ],
   "source": [
    "def main():\n",
    "    student = get_student()\n",
    "    print(f\"{student['name']} from {student['house']}\")\n",
    "\n",
    "\n",
    "def get_student():\n",
    "    name = input(\"Name: \")\n",
    "    house = input(\"House: \")\n",
    "    return {\"name\": name, \"house\": house}\n",
    "\n",
    "\n",
    "if __name__ == \"__main__\":\n",
    "    main()"
   ]
  },
  {
   "cell_type": "code",
   "execution_count": 85,
   "metadata": {},
   "outputs": [
    {
     "name": "stdout",
     "output_type": "stream",
     "text": [
      "classes\n"
     ]
    }
   ],
   "source": [
    "print(\"classes\")"
   ]
  },
  {
   "cell_type": "code",
   "execution_count": 87,
   "metadata": {},
   "outputs": [
    {
     "name": "stdout",
     "output_type": "stream",
     "text": [
      "Ron from Hufflepuff\n"
     ]
    }
   ],
   "source": [
    "class Student:\n",
    "    ...\n",
    "\n",
    "\n",
    "def main():\n",
    "    student = get_student()\n",
    "    print(f\"{student.name} from {student.house}\")\n",
    "\n",
    "\n",
    "def get_student():\n",
    "    student = Student()\n",
    "    student.name = input(\"Name: \").strip()\n",
    "    student.house = input(\"House: \").strip()\n",
    "    return student\n",
    "\n",
    "\n",
    "if __name__ == \"__main__\":\n",
    "    main()\n"
   ]
  },
  {
   "cell_type": "code",
   "execution_count": 88,
   "metadata": {},
   "outputs": [
    {
     "name": "stdout",
     "output_type": "stream",
     "text": [
      "Yuri from Gryffindor\n"
     ]
    }
   ],
   "source": [
    "class Student:\n",
    "    def __init__(self, name, house):\n",
    "        self.name = name\n",
    "        self.house = house\n",
    "\n",
    "\n",
    "def main():\n",
    "    student = get_student()\n",
    "    print(f\"{student.name} from {student.house}\")\n",
    "\n",
    "\n",
    "def get_student():\n",
    "    name = input(\"Name: \")\n",
    "    house = input(\"House: \")\n",
    "    return Student(name, house)\n",
    "\n",
    "\n",
    "if __name__ == \"__main__\":\n",
    "    main()"
   ]
  },
  {
   "cell_type": "code",
   "execution_count": 91,
   "metadata": {},
   "outputs": [
    {
     "ename": "AttributeError",
     "evalue": "'list' object has no attribute 'name'",
     "output_type": "error",
     "traceback": [
      "\u001b[0;31m---------------------------------------------------------------------------\u001b[0m",
      "\u001b[0;31mAttributeError\u001b[0m                            Traceback (most recent call last)",
      "\u001b[1;32m/home/local/ZOHOCORP/srivat-pt6061/Documents/Week1/Day2/day2.ipynb Cell 35\u001b[0m in \u001b[0;36m<cell line: 8>\u001b[0;34m()\u001b[0m\n\u001b[1;32m      <a href='vscode-notebook-cell:/home/local/ZOHOCORP/srivat-pt6061/Documents/Week1/Day2/day2.ipynb#X52sZmlsZQ%3D%3D?line=3'>4</a>\u001b[0m     \u001b[39mself\u001b[39m\u001b[39m.\u001b[39mage \u001b[39m=\u001b[39m age\n\u001b[1;32m      <a href='vscode-notebook-cell:/home/local/ZOHOCORP/srivat-pt6061/Documents/Week1/Day2/day2.ipynb#X52sZmlsZQ%3D%3D?line=5'>6</a>\u001b[0m p1\u001b[39m=\u001b[39m \u001b[39minput\u001b[39m(\u001b[39m\"\u001b[39m\u001b[39mEnter Name and age\u001b[39m\u001b[39m\"\u001b[39m)\u001b[39m.\u001b[39msplit()\n\u001b[0;32m----> <a href='vscode-notebook-cell:/home/local/ZOHOCORP/srivat-pt6061/Documents/Week1/Day2/day2.ipynb#X52sZmlsZQ%3D%3D?line=7'>8</a>\u001b[0m \u001b[39mprint\u001b[39m(p1\u001b[39m.\u001b[39;49mname)\n\u001b[1;32m      <a href='vscode-notebook-cell:/home/local/ZOHOCORP/srivat-pt6061/Documents/Week1/Day2/day2.ipynb#X52sZmlsZQ%3D%3D?line=8'>9</a>\u001b[0m \u001b[39mprint\u001b[39m(p1\u001b[39m.\u001b[39mage)\n",
      "\u001b[0;31mAttributeError\u001b[0m: 'list' object has no attribute 'name'"
     ]
    }
   ],
   "source": [
    "class Person:\n",
    "  def __init__(self, name, age):\n",
    "    self.name = name\n",
    "    self.age = age\n",
    "\n",
    "p1.name,p1.age= input(\"Enter Name and age\").split()\n",
    "\n",
    "print(p1.name)\n",
    "print(p1.age) "
   ]
  }
 ],
 "metadata": {
  "kernelspec": {
   "display_name": "Python 3.8.10 64-bit",
   "language": "python",
   "name": "python3"
  },
  "language_info": {
   "codemirror_mode": {
    "name": "ipython",
    "version": 3
   },
   "file_extension": ".py",
   "mimetype": "text/x-python",
   "name": "python",
   "nbconvert_exporter": "python",
   "pygments_lexer": "ipython3",
   "version": "3.8.10"
  },
  "orig_nbformat": 4,
  "vscode": {
   "interpreter": {
    "hash": "916dbcbb3f70747c44a77c7bcd40155683ae19c65e1c03b4aa3499c5328201f1"
   }
  }
 },
 "nbformat": 4,
 "nbformat_minor": 2
}
