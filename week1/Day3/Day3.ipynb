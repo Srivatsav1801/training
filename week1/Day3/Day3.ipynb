{
 "cells": [
  {
   "cell_type": "code",
   "execution_count": 2,
   "metadata": {},
   "outputs": [
    {
     "name": "stdout",
     "output_type": "stream",
     "text": [
      "Caleb Gold\n",
      "Brad Bronze\n"
     ]
    }
   ],
   "source": [
    "class Customer:\n",
    "    def __init__(self,name,membership_type):\n",
    "        self.name = name\n",
    "        self.membership_type = membership_type\n",
    "    \n",
    "c = Customer(\"Caleb\",\"Gold\")\n",
    "print(c.name , c.membership_type)\n",
    "\n",
    "c2 =Customer(\"Brad\",\"Bronze\")\n",
    "print(c2.name , c2.membership_type)"
   ]
  },
  {
   "cell_type": "code",
   "execution_count": 8,
   "metadata": {},
   "outputs": [
    {
     "name": "stdout",
     "output_type": "stream",
     "text": [
      "Caleb\n"
     ]
    }
   ],
   "source": [
    "class Customer:\n",
    "    def __init__(self,name,membership_type):\n",
    "        self.name = name\n",
    "        self.membership_type = membership_type\n",
    "    \n",
    "customers = [Customer(\"Caleb\",\"Gold\"),Customer(\"Brad\",\"Bronze\")]\n",
    "\n",
    "print(customers[0].name)"
   ]
  },
  {
   "cell_type": "code",
   "execution_count": 9,
   "metadata": {},
   "outputs": [
    {
     "name": "stdout",
     "output_type": "stream",
     "text": [
      "Gold\n"
     ]
    }
   ],
   "source": [
    "class Customer:\n",
    "    def __init__(self,name,membership_type):\n",
    "        self.name = name\n",
    "        self.membership_type = membership_type\n",
    "    \n",
    "customers = [Customer(\"Caleb\",\"Gold\"),Customer(\"Brad\",\"Bronze\")]\n",
    "\n",
    "print(customers[0].membership_type)"
   ]
  },
  {
   "cell_type": "code",
   "execution_count": 10,
   "metadata": {},
   "outputs": [
    {
     "name": "stdout",
     "output_type": "stream",
     "text": [
      "Bronze\n",
      "Gold\n"
     ]
    }
   ],
   "source": [
    "class Customer:\n",
    "    def __init__(self,name,membership_type):\n",
    "        self.name = name\n",
    "        self.membership_type = membership_type\n",
    "    \n",
    "    def update_membership(self,new_membership):\n",
    "        self.membership_type = new_membership\n",
    "    \n",
    "customers = [Customer(\"Caleb\",\"Gold\"),Customer(\"Brad\",\"Bronze\")]\n",
    "\n",
    "print(customers[1].membership_type)\n",
    "customers[1].update_membership(\"Gold\")\n",
    "print(customers[1].membership_type)"
   ]
  },
  {
   "cell_type": "code",
   "execution_count": 13,
   "metadata": {},
   "outputs": [
    {
     "name": "stdout",
     "output_type": "stream",
     "text": [
      "converting to string\n",
      "Brad Bronze\n",
      "converting to string\n",
      "Brad Gold\n"
     ]
    }
   ],
   "source": [
    "class Customer:\n",
    "    def __init__(self,name,membership_type):\n",
    "        self.name = name\n",
    "        self.membership_type = membership_type\n",
    "    \n",
    "    def update_membership(self,new_membership):\n",
    "        self.membership_type = new_membership\n",
    "    \n",
    "    def __str__(self):\n",
    "        print(\"converting to string\")\n",
    "        return self.name+\" \"+self.membership_type\n",
    "    \n",
    "customers = [Customer(\"Caleb\",\"Gold\"),Customer(\"Brad\",\"Bronze\")]\n",
    "\n",
    "print(customers[1])\n",
    "customers[1].update_membership(\"Gold\")\n",
    "print(customers[1])"
   ]
  },
  {
   "cell_type": "code",
   "execution_count": 18,
   "metadata": {},
   "outputs": [
    {
     "name": "stdout",
     "output_type": "stream",
     "text": [
      "Ron from Gryffindor\n"
     ]
    }
   ],
   "source": [
    "class Student:\n",
    "    def __init__(self, name, house):\n",
    "        if not name:\n",
    "            raise ValueError(\"Missing name\")\n",
    "        #By using reaise ,we can create our own exception that alerts the programmer to a potential error created by the user \n",
    "        if house not in [\"Gryffindor\", \"Hufflepuff\", \"Ravenclaw\", \"Slytherin\"]:\n",
    "            raise ValueError(\"Invalid house\")\n",
    "        self.name = name\n",
    "        self.house = house\n",
    "\n",
    "\n",
    "def main():\n",
    "    student = get_student()\n",
    "    print(f\"{student.name} from {student.house}\")\n",
    "\n",
    "\n",
    "def get_student():\n",
    "    name = input(\"Name: \")\n",
    "    house = input(\"House: \")\n",
    "    return Student(name, house)\n",
    "\n",
    "\n",
    "if __name__ == \"__main__\":\n",
    "    main()"
   ]
  },
  {
   "cell_type": "code",
   "execution_count": 19,
   "metadata": {},
   "outputs": [
    {
     "ename": "ValueError",
     "evalue": "Invalid house",
     "output_type": "error",
     "traceback": [
      "\u001b[0;31m---------------------------------------------------------------------------\u001b[0m",
      "\u001b[0;31mValueError\u001b[0m                                Traceback (most recent call last)",
      "\u001b[1;32m/home/local/ZOHOCORP/srivat-pt6061/Documents/Week1/Day3/Day3.ipynb Cell 7\u001b[0m in \u001b[0;36m<cell line: 23>\u001b[0;34m()\u001b[0m\n\u001b[1;32m     <a href='vscode-notebook-cell:/home/local/ZOHOCORP/srivat-pt6061/Documents/Week1/Day3/Day3.ipynb#W6sdW50aXRsZWQ%3D?line=19'>20</a>\u001b[0m     \u001b[39mreturn\u001b[39;00m Student(name, house)\n\u001b[1;32m     <a href='vscode-notebook-cell:/home/local/ZOHOCORP/srivat-pt6061/Documents/Week1/Day3/Day3.ipynb#W6sdW50aXRsZWQ%3D?line=22'>23</a>\u001b[0m \u001b[39mif\u001b[39;00m \u001b[39m__name__\u001b[39m \u001b[39m==\u001b[39m \u001b[39m\"\u001b[39m\u001b[39m__main__\u001b[39m\u001b[39m\"\u001b[39m:\n\u001b[0;32m---> <a href='vscode-notebook-cell:/home/local/ZOHOCORP/srivat-pt6061/Documents/Week1/Day3/Day3.ipynb#W6sdW50aXRsZWQ%3D?line=23'>24</a>\u001b[0m     main()\n",
      "\u001b[1;32m/home/local/ZOHOCORP/srivat-pt6061/Documents/Week1/Day3/Day3.ipynb Cell 7\u001b[0m in \u001b[0;36mmain\u001b[0;34m()\u001b[0m\n\u001b[1;32m     <a href='vscode-notebook-cell:/home/local/ZOHOCORP/srivat-pt6061/Documents/Week1/Day3/Day3.ipynb#W6sdW50aXRsZWQ%3D?line=11'>12</a>\u001b[0m \u001b[39mdef\u001b[39;00m \u001b[39mmain\u001b[39m():\n\u001b[0;32m---> <a href='vscode-notebook-cell:/home/local/ZOHOCORP/srivat-pt6061/Documents/Week1/Day3/Day3.ipynb#W6sdW50aXRsZWQ%3D?line=12'>13</a>\u001b[0m     student \u001b[39m=\u001b[39m get_student()\n\u001b[1;32m     <a href='vscode-notebook-cell:/home/local/ZOHOCORP/srivat-pt6061/Documents/Week1/Day3/Day3.ipynb#W6sdW50aXRsZWQ%3D?line=13'>14</a>\u001b[0m     \u001b[39mprint\u001b[39m(\u001b[39mf\u001b[39m\u001b[39m\"\u001b[39m\u001b[39m{\u001b[39;00mstudent\u001b[39m.\u001b[39mname\u001b[39m}\u001b[39;00m\u001b[39m from \u001b[39m\u001b[39m{\u001b[39;00mstudent\u001b[39m.\u001b[39mhouse\u001b[39m}\u001b[39;00m\u001b[39m\"\u001b[39m)\n",
      "\u001b[1;32m/home/local/ZOHOCORP/srivat-pt6061/Documents/Week1/Day3/Day3.ipynb Cell 7\u001b[0m in \u001b[0;36mget_student\u001b[0;34m()\u001b[0m\n\u001b[1;32m     <a href='vscode-notebook-cell:/home/local/ZOHOCORP/srivat-pt6061/Documents/Week1/Day3/Day3.ipynb#W6sdW50aXRsZWQ%3D?line=17'>18</a>\u001b[0m name \u001b[39m=\u001b[39m \u001b[39minput\u001b[39m(\u001b[39m\"\u001b[39m\u001b[39mName: \u001b[39m\u001b[39m\"\u001b[39m)\n\u001b[1;32m     <a href='vscode-notebook-cell:/home/local/ZOHOCORP/srivat-pt6061/Documents/Week1/Day3/Day3.ipynb#W6sdW50aXRsZWQ%3D?line=18'>19</a>\u001b[0m house \u001b[39m=\u001b[39m \u001b[39minput\u001b[39m(\u001b[39m\"\u001b[39m\u001b[39mHouse: \u001b[39m\u001b[39m\"\u001b[39m)\n\u001b[0;32m---> <a href='vscode-notebook-cell:/home/local/ZOHOCORP/srivat-pt6061/Documents/Week1/Day3/Day3.ipynb#W6sdW50aXRsZWQ%3D?line=19'>20</a>\u001b[0m \u001b[39mreturn\u001b[39;00m Student(name, house)\n",
      "\u001b[1;32m/home/local/ZOHOCORP/srivat-pt6061/Documents/Week1/Day3/Day3.ipynb Cell 7\u001b[0m in \u001b[0;36mStudent.__init__\u001b[0;34m(self, name, house)\u001b[0m\n\u001b[1;32m      <a href='vscode-notebook-cell:/home/local/ZOHOCORP/srivat-pt6061/Documents/Week1/Day3/Day3.ipynb#W6sdW50aXRsZWQ%3D?line=4'>5</a>\u001b[0m \u001b[39m#By using reaise ,we can create our own exception that alerts the programmer to a potential error created by the user \u001b[39;00m\n\u001b[1;32m      <a href='vscode-notebook-cell:/home/local/ZOHOCORP/srivat-pt6061/Documents/Week1/Day3/Day3.ipynb#W6sdW50aXRsZWQ%3D?line=5'>6</a>\u001b[0m \u001b[39mif\u001b[39;00m house \u001b[39mnot\u001b[39;00m \u001b[39min\u001b[39;00m [\u001b[39m\"\u001b[39m\u001b[39mGryffindor\u001b[39m\u001b[39m\"\u001b[39m, \u001b[39m\"\u001b[39m\u001b[39mHufflepuff\u001b[39m\u001b[39m\"\u001b[39m, \u001b[39m\"\u001b[39m\u001b[39mRavenclaw\u001b[39m\u001b[39m\"\u001b[39m, \u001b[39m\"\u001b[39m\u001b[39mSlytherin\u001b[39m\u001b[39m\"\u001b[39m]:\n\u001b[0;32m----> <a href='vscode-notebook-cell:/home/local/ZOHOCORP/srivat-pt6061/Documents/Week1/Day3/Day3.ipynb#W6sdW50aXRsZWQ%3D?line=6'>7</a>\u001b[0m     \u001b[39mraise\u001b[39;00m \u001b[39mValueError\u001b[39;00m(\u001b[39m\"\u001b[39m\u001b[39mInvalid house\u001b[39m\u001b[39m\"\u001b[39m)\n\u001b[1;32m      <a href='vscode-notebook-cell:/home/local/ZOHOCORP/srivat-pt6061/Documents/Week1/Day3/Day3.ipynb#W6sdW50aXRsZWQ%3D?line=7'>8</a>\u001b[0m \u001b[39mself\u001b[39m\u001b[39m.\u001b[39mname \u001b[39m=\u001b[39m name\n\u001b[1;32m      <a href='vscode-notebook-cell:/home/local/ZOHOCORP/srivat-pt6061/Documents/Week1/Day3/Day3.ipynb#W6sdW50aXRsZWQ%3D?line=8'>9</a>\u001b[0m \u001b[39mself\u001b[39m\u001b[39m.\u001b[39mhouse \u001b[39m=\u001b[39m house\n",
      "\u001b[0;31mValueError\u001b[0m: Invalid house"
     ]
    }
   ],
   "source": [
    "class Student:\n",
    "    def __init__(self, name, house):\n",
    "        if not name:\n",
    "            raise ValueError(\"Missing name\")\n",
    "        #By using reaise ,we can create our own exception that alerts the programmer to a potential error created by the user \n",
    "        if house not in [\"Gryffindor\", \"Hufflepuff\", \"Ravenclaw\", \"Slytherin\"]:\n",
    "            raise ValueError(\"Invalid house\")\n",
    "        self.name = name\n",
    "        self.house = house\n",
    "\n",
    "\n",
    "def main():\n",
    "    student = get_student()\n",
    "    print(f\"{student.name} from {student.house}\")\n",
    "\n",
    "\n",
    "def get_student():\n",
    "    name = input(\"Name: \")\n",
    "    house = input(\"House: \")\n",
    "    return Student(name, house)\n",
    "\n",
    "\n",
    "if __name__ == \"__main__\":\n",
    "    main()\n",
    "    "
   ]
  },
  {
   "cell_type": "code",
   "execution_count": 4,
   "metadata": {},
   "outputs": [
    {
     "name": "stdout",
     "output_type": "stream",
     "text": [
      "Decorators\n"
     ]
    }
   ],
   "source": [
    "print(\"Decorators\")"
   ]
  },
  {
   "cell_type": "code",
   "execution_count": 6,
   "metadata": {},
   "outputs": [
    {
     "name": "stdout",
     "output_type": "stream",
     "text": [
      "Rocklee from Ravenclaw\n"
     ]
    }
   ],
   "source": [
    "class Student:\n",
    "    def __init__(self, name, house):\n",
    "        if not name:\n",
    "            raise ValueError(\"Invalid name\")\n",
    "        self.name = name\n",
    "        self.house = house\n",
    "\n",
    "    def __str__(self):\n",
    "        return f\"{self.name} from {self.house}\"\n",
    "\n",
    "    # Getter for house\n",
    "    @property\n",
    "    def house(self):\n",
    "        return self._house\n",
    "\n",
    "    # Setter for house\n",
    "    @house.setter\n",
    "    def house(self, house):\n",
    "        if house not in [\"Gryffindor\", \"Hufflepuff\", \"Ravenclaw\", \"Slytherin\"]:\n",
    "            raise ValueError(\"Invalid house\")\n",
    "        self._house = house\n",
    "\n",
    "\n",
    "def main():\n",
    "    student = get_student()\n",
    "    print(student)\n",
    "\n",
    "\n",
    "def get_student():\n",
    "    name = input(\"Name: \")\n",
    "    house = input(\"House: \")\n",
    "    return Student(name, house)\n",
    "\n",
    "\n",
    "if __name__ == \"__main__\":\n",
    "    main()"
   ]
  },
  {
   "cell_type": "code",
   "execution_count": 128,
   "metadata": {},
   "outputs": [
    {
     "name": "stdout",
     "output_type": "stream",
     "text": [
      "Radius is:  10\n",
      "Area is:  314.0\n",
      "Circumference is:  62.800000000000004\n"
     ]
    }
   ],
   "source": [
    "class Circle:\n",
    "    pi = 3.14\n",
    "    \n",
    "    \n",
    "    def __init__(self, radius=int(input(\"enter the radius: \"))):\n",
    "        self.radius = radius \n",
    "        self.area = radius * radius * Circle.pi\n",
    "        \n",
    "    def setRadius(self, new_radius):\n",
    "        self.radius = new_radius\n",
    "        self.area = new_radius * new_radius * self.pi\n",
    "\n",
    "    def getCircumference(self):\n",
    "        return self.radius * self.pi * 2\n",
    "\n",
    "\n",
    "c = Circle()\n",
    "\n",
    "print('Radius is: ',c.radius)\n",
    "print('Area is: ',c.area)\n",
    "print('Circumference is: ',c.getCircumference())"
   ]
  },
  {
   "cell_type": "code",
   "execution_count": 19,
   "metadata": {},
   "outputs": [
    {
     "name": "stdout",
     "output_type": "stream",
     "text": [
      "special Methods\n"
     ]
    }
   ],
   "source": [
    "print(\"special Methods\")"
   ]
  },
  {
   "cell_type": "code",
   "execution_count": 35,
   "metadata": {},
   "outputs": [],
   "source": [
    "class Book:\n",
    "    def __init__(self, title, author, pages):\n",
    "        print(\"A book is created\")\n",
    "        self.title = title\n",
    "        self.author = author\n",
    "        self.pages = pages\n",
    "\n",
    "    def __str__(self):\n",
    "        return \"Title: %s, author: %s, pages: %s\" %(self.title, self.author, self.pages)\n",
    "\n",
    "    def __len__(self):\n",
    "        return self.pages\n",
    "\n",
    "    def __del__(self):\n",
    "        print(\"A book is destroyed\")"
   ]
  },
  {
   "cell_type": "code",
   "execution_count": 39,
   "metadata": {},
   "outputs": [
    {
     "name": "stdout",
     "output_type": "stream",
     "text": [
      "A book is created\n",
      "Title: Python Rocks!, author: Jose Portilla, pages: 159\n",
      "159\n",
      "A book is destroyed\n"
     ]
    }
   ],
   "source": [
    "book = Book(\"Python Rocks!\", \"Jose Portilla\", 159)\n",
    "\n",
    "#using special methods \n",
    "print(book)\n",
    "print(len(book))\n",
    "del book"
   ]
  },
  {
   "cell_type": "code",
   "execution_count": 40,
   "metadata": {},
   "outputs": [],
   "source": [
    "class Line(object):\n",
    "    \n",
    "    def __init__(self,coor1,coor2):\n",
    "        self.coor1 = coor1\n",
    "        self.coor2 = coor2\n",
    "    \n",
    "    def distance(self):\n",
    "        x1,y1 = self.coor1\n",
    "        x2,y2 = self.coor2\n",
    "        return ((x2-x1)**2 + (y2-y1)**2)**0.5\n",
    "    \n",
    "    def slope(self):\n",
    "        x1,y1 = self.coor1\n",
    "        x2,y2 = self.coor2\n",
    "        return (y2-y1)/(x2-x1)"
   ]
  },
  {
   "cell_type": "code",
   "execution_count": 41,
   "metadata": {},
   "outputs": [],
   "source": [
    "coordinate1 = (3,2)\n",
    "coordinate2 = (1,5)\n",
    "li = Line(coordinate1,coordinate2)"
   ]
  },
  {
   "cell_type": "code",
   "execution_count": 42,
   "metadata": {},
   "outputs": [
    {
     "data": {
      "text/plain": [
       "3.605551275463989"
      ]
     },
     "execution_count": 42,
     "metadata": {},
     "output_type": "execute_result"
    }
   ],
   "source": [
    "li.distance()"
   ]
  },
  {
   "cell_type": "code",
   "execution_count": 43,
   "metadata": {},
   "outputs": [
    {
     "data": {
      "text/plain": [
       "-1.5"
      ]
     },
     "execution_count": 43,
     "metadata": {},
     "output_type": "execute_result"
    }
   ],
   "source": [
    "li.slope()"
   ]
  },
  {
   "cell_type": "code",
   "execution_count": 54,
   "metadata": {},
   "outputs": [],
   "source": [
    "class Cylinder:\n",
    "    pi = 3.14\n",
    "    def __init__ (self,height = 1,radius = 1 ):\n",
    "        self.height = height\n",
    "        self.radius = radius \n",
    "    def volume(self):\n",
    "        return self.height * Cylinder.pi *(self.radius)**2\n",
    "    def surface_area(self):\n",
    "        top = Cylinder.pi * (self.radius)**2\n",
    "        return (2*top) + (2*Cylinder.pi*self.radius*self.height)"
   ]
  },
  {
   "cell_type": "code",
   "execution_count": 55,
   "metadata": {},
   "outputs": [],
   "source": [
    "c = Cylinder(2,3)"
   ]
  },
  {
   "cell_type": "code",
   "execution_count": 56,
   "metadata": {},
   "outputs": [
    {
     "data": {
      "text/plain": [
       "56.52"
      ]
     },
     "execution_count": 56,
     "metadata": {},
     "output_type": "execute_result"
    }
   ],
   "source": [
    "c.volume()"
   ]
  },
  {
   "cell_type": "code",
   "execution_count": 109,
   "metadata": {},
   "outputs": [],
   "source": [
    "class Account:\n",
    "    def __init__(self,owner,balance):\n",
    "        self.owner = owner\n",
    "        self.balance = balance\n",
    "    def __str__(self):\n",
    "        return f'account no: {self.owner} \\naccount balance: {self.balance}'\n",
    "    def deposit(self,dept_amt):\n",
    "        self.balance += dept_amt\n",
    "        print(f'deposited amt: {dept_amt} \\n new Balance:{self.balance}')\n",
    "    def withdraw(self,wd_amt):\n",
    "        if self.balance >= wd_amt:\n",
    "            self.balance -= wd_amt\n",
    "            print(f\"withdraw of {wd_amt} accepted \\n new Balance: {self.balance}\")\n",
    "        else:\n",
    "            print('Insufficient Funds')"
   ]
  },
  {
   "cell_type": "code",
   "execution_count": 110,
   "metadata": {},
   "outputs": [],
   "source": [
    "acct1 = Account('Parker',5000)"
   ]
  },
  {
   "cell_type": "code",
   "execution_count": 111,
   "metadata": {},
   "outputs": [
    {
     "name": "stdout",
     "output_type": "stream",
     "text": [
      "account no: Parker \n",
      "account balance: 5000\n"
     ]
    }
   ],
   "source": [
    "print(acct1)"
   ]
  },
  {
   "cell_type": "code",
   "execution_count": 112,
   "metadata": {},
   "outputs": [
    {
     "name": "stdout",
     "output_type": "stream",
     "text": [
      "withdraw of 75 accepted \n",
      " new Balance: 4925\n"
     ]
    }
   ],
   "source": [
    "acct1.withdraw(75)"
   ]
  },
  {
   "cell_type": "code",
   "execution_count": 113,
   "metadata": {},
   "outputs": [
    {
     "name": "stdout",
     "output_type": "stream",
     "text": [
      "deposited amt: 50 \n",
      " new Balance:4975\n"
     ]
    }
   ],
   "source": [
    "acct1.deposit(50)"
   ]
  },
  {
   "cell_type": "code",
   "execution_count": 114,
   "metadata": {},
   "outputs": [
    {
     "name": "stdout",
     "output_type": "stream",
     "text": [
      "Insufficient Funds\n"
     ]
    }
   ],
   "source": [
    "acct1.withdraw(5000)"
   ]
  },
  {
   "cell_type": "code",
   "execution_count": 115,
   "metadata": {},
   "outputs": [
    {
     "name": "stdout",
     "output_type": "stream",
     "text": [
      "Inheritance\n"
     ]
    }
   ],
   "source": [
    "print(\"Inheritance\")"
   ]
  },
  {
   "cell_type": "code",
   "execution_count": 116,
   "metadata": {},
   "outputs": [],
   "source": [
    "class Animal:\n",
    "    def __init__(self):\n",
    "        print(\"Animal created\")\n",
    "\n",
    "    def whoAmI(self):\n",
    "        print(\"Animal\")\n",
    "\n",
    "    def eat(self):\n",
    "        print(\"Eating\")\n",
    "\n",
    "\n",
    "class Dog(Animal):\n",
    "    def __init__(self):\n",
    "        Animal.__init__(self)\n",
    "        print(\"Dog created\")\n",
    "\n",
    "    def whoAmI(self):\n",
    "        print(\"Dog\")\n",
    "\n",
    "    def bark(self):\n",
    "        print(\"Woof!\")"
   ]
  },
  {
   "cell_type": "code",
   "execution_count": 117,
   "metadata": {},
   "outputs": [
    {
     "name": "stdout",
     "output_type": "stream",
     "text": [
      "Animal created\n",
      "Dog created\n"
     ]
    }
   ],
   "source": [
    "d = Dog()"
   ]
  },
  {
   "cell_type": "code",
   "execution_count": 118,
   "metadata": {},
   "outputs": [
    {
     "name": "stdout",
     "output_type": "stream",
     "text": [
      "Dog\n"
     ]
    }
   ],
   "source": [
    "d.whoAmI()"
   ]
  },
  {
   "cell_type": "code",
   "execution_count": 119,
   "metadata": {},
   "outputs": [
    {
     "name": "stdout",
     "output_type": "stream",
     "text": [
      "Eating\n"
     ]
    }
   ],
   "source": [
    "d.eat()"
   ]
  },
  {
   "cell_type": "code",
   "execution_count": 125,
   "metadata": {},
   "outputs": [
    {
     "name": "stdout",
     "output_type": "stream",
     "text": [
      "Woof!\n"
     ]
    }
   ],
   "source": [
    "d.bark()"
   ]
  },
  {
   "cell_type": "code",
   "execution_count": 140,
   "metadata": {},
   "outputs": [
    {
     "name": "stdout",
     "output_type": "stream",
     "text": [
      "90\n",
      "2000\n",
      "0.8\n"
     ]
    }
   ],
   "source": [
    "    class Calculation1:  \n",
    "        def Summation(self,a,b):  \n",
    "            return a+b;  \n",
    "    class Calculation2:  \n",
    "        def Multiplication(self,a,b):  \n",
    "            return a*b;  \n",
    "    class Derived(Calculation1,Calculation2):  \n",
    "        def Divide(self,a,b):  \n",
    "            return a/b;  \n",
    "    d = Derived()  \n",
    "    print(d.Summation(40,50))  \n",
    "    print(d.Multiplication(40,50))  \n",
    "    print(d.Divide(40,50))  "
   ]
  },
  {
   "cell_type": "code",
   "execution_count": null,
   "metadata": {},
   "outputs": [],
   "source": []
  }
 ],
 "metadata": {
  "kernelspec": {
   "display_name": "Python 3.8.10 64-bit",
   "language": "python",
   "name": "python3"
  },
  "language_info": {
   "codemirror_mode": {
    "name": "ipython",
    "version": 3
   },
   "file_extension": ".py",
   "mimetype": "text/x-python",
   "name": "python",
   "nbconvert_exporter": "python",
   "pygments_lexer": "ipython3",
   "version": "3.8.10"
  },
  "orig_nbformat": 4,
  "vscode": {
   "interpreter": {
    "hash": "916dbcbb3f70747c44a77c7bcd40155683ae19c65e1c03b4aa3499c5328201f1"
   }
  }
 },
 "nbformat": 4,
 "nbformat_minor": 2
}
