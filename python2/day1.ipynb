{
 "cells": [
  {
   "cell_type": "code",
   "execution_count": 86,
   "metadata": {},
   "outputs": [],
   "source": [
    "class Car:\n",
    "    def __init__(self,color,type):\n",
    "        self.color = color\n",
    "        self.type = type\n",
    "    def __str__(self):\n",
    "        return f\"The car is in {self.color} and it is a {self.type}\" "
   ]
  },
  {
   "cell_type": "code",
   "execution_count": 89,
   "metadata": {},
   "outputs": [
    {
     "data": {
      "text/plain": [
       "<__main__.Car at 0x7f1af0f2a550>"
      ]
     },
     "execution_count": 89,
     "metadata": {},
     "output_type": "execute_result"
    }
   ],
   "source": [
    "the_car = Car(\"green\",\"sedan\")\n",
    "the_car"
   ]
  },
  {
   "cell_type": "code",
   "execution_count": 91,
   "metadata": {},
   "outputs": [
    {
     "name": "stdout",
     "output_type": "stream",
     "text": [
      "The car is in green and it is a sedan\n"
     ]
    }
   ],
   "source": [
    "print(the_car)"
   ]
  },
  {
   "cell_type": "code",
   "execution_count": 114,
   "metadata": {},
   "outputs": [],
   "source": [
    "class Car:\n",
    "    def __init__(self,color,type):\n",
    "        self.color = color\n",
    "        self.type = type\n",
    "    # def __repr__(self):\n",
    "    #    return  f\"The car is in {self.color} and it is a {self.type}\" "
   ]
  },
  {
   "cell_type": "code",
   "execution_count": 115,
   "metadata": {},
   "outputs": [],
   "source": [
    "the_car = Car(\"green\",\"sedan\")"
   ]
  },
  {
   "cell_type": "code",
   "execution_count": 116,
   "metadata": {},
   "outputs": [
    {
     "data": {
      "text/plain": [
       "<__main__.Car at 0x7f1af109ac40>"
      ]
     },
     "execution_count": 116,
     "metadata": {},
     "output_type": "execute_result"
    }
   ],
   "source": [
    "the_car"
   ]
  },
  {
   "cell_type": "code",
   "execution_count": 117,
   "metadata": {},
   "outputs": [],
   "source": [
    "class Car:\n",
    "    def __init__(self,color,type):\n",
    "        self.color = color\n",
    "        self.type = type\n",
    "    def __repr__(self):\n",
    "        return  f\"The car is in {self.color} and it is a {self.type}\" "
   ]
  },
  {
   "cell_type": "code",
   "execution_count": 118,
   "metadata": {},
   "outputs": [],
   "source": [
    "the_car = Car(\"green\",\"sedan\")"
   ]
  },
  {
   "cell_type": "code",
   "execution_count": 119,
   "metadata": {},
   "outputs": [
    {
     "data": {
      "text/plain": [
       "The car is in green and it is a sedan"
      ]
     },
     "execution_count": 119,
     "metadata": {},
     "output_type": "execute_result"
    }
   ],
   "source": [
    "the_car"
   ]
  },
  {
   "cell_type": "code",
   "execution_count": 3,
   "metadata": {},
   "outputs": [
    {
     "name": "stdout",
     "output_type": "stream",
     "text": [
      "price of item in site B is less than price of site A\n"
     ]
    }
   ],
   "source": [
    "class Site:\n",
    "    def __init__(self, price):\n",
    "        self.price = price\n",
    "    def __lt__(self, other):\n",
    "        if(self.price<other.price):\n",
    "            return \"price of item in site A is less than price of site B\"\n",
    "        else:\n",
    "            return \"price of item in site B is less than price of site A\"\n",
    "    def __eq__(self, other):\n",
    "        if(self.price == other.price):\n",
    "            return \"Both are equal\"\n",
    "        else:\n",
    "            return \"Not equal\"\n",
    "                  \n",
    "s1 = Site(10000)\n",
    "s2 = Site(5000)\n",
    "print(s1 < s2)\n",
    "  \n",
    "\n"
   ]
  },
  {
   "cell_type": "markdown",
   "metadata": {},
   "source": []
  },
  {
   "cell_type": "code",
   "execution_count": 4,
   "metadata": {},
   "outputs": [
    {
     "name": "stdout",
     "output_type": "stream",
     "text": [
      "price of item in site A is less than price of site B\n"
     ]
    }
   ],
   "source": [
    "s1 = Site(6000)\n",
    "s2 = Site(12000)\n",
    "print(s1 < s2)"
   ]
  },
  {
   "cell_type": "code",
   "execution_count": 5,
   "metadata": {},
   "outputs": [],
   "source": [
    "from random import choice\n",
    "\n",
    "\n",
    "class Countries:\n",
    "    def __init__(self, c_name):\n",
    "        self.c_name = c_name\n",
    "\n",
    "    def __len__(self):\n",
    "        return len(self.c_name)\n",
    "\n",
    "    def __getitem__(self, position):\n",
    "        return self.c_name[position]\n",
    "\n",
    "\n",
    "country = Countries(\n",
    "    [\"Afghanistan\", \"Albania\", \"Algeria\", \"Andorra\", \"Angola\", \"Antigua and Barbuda\", \"Argentina\", \"Armenia\",\n",
    "     \"Australia\", \"Austria\", \"Azerbaijan\", \"Bahamas\", \"Bahrain\", \"Bangladesh\", \"Barbados\", \"Belarus\", \"Belgium\",\n",
    "     \"Belize\", \"Benin\", \"Bhutan\", \"Bolivia\", \"Bosnia and Herzegovina\", \"Botswana\", \"Brazil\", \"Brunei \",\n",
    "     \"BulgariaBurkina Faso\", \"Burundi\", \"\", \"Côte d'Ivoire\", \"Cabo Verde\", \"Cambodia\", \"Cameroon\", \"Canada\",\n",
    "     \"Central African Republic\", \"Chad\", \"Chile\", \"China\", \"Colombia\", \"Comoros\", \"Congo (Congo-Brazzaville)\",\n",
    "     \"Costa Rica\", \"Croatia\", \"Cuba\", \"Cyprus\", \"Czechia (Czech Republic)\", \"Democratic Republic of the Congo\",\n",
    "     \"Denmark\", \"Djibouti\", \"Dominica\", \"Dominican Republic\", \"Ecuador\", \"Egypt\", \"El Salvador\", \"Equatorial Guinea\",\n",
    "     \"EritreaEstonia\", \"swatini\", \"Ethiopia\", \"Fiji\", \"Finland\", \"France\", \"Gabon\", \"Gambia\", \"Georgia\", \"Germany\",\n",
    "     \"Ghana\", \"Greece\", \"Grenada\", \"Guatemala\", \"Guinea\", \"Guinea-Bissau\", \"Guyana\", \"Haiti\", \"Holy See\", \"Honduras\",\n",
    "     \"Hungary\", \"Iceland\", \"India\", \"Indonesia\", \"Iran\", \"Iraq\", \"Ireland\", \"Israel\", \"Italy\", \"Jamaica\", \"Japan\",\n",
    "     \"Jordan\", \"Kazakhstan\", \"Kenya\", \"Kiribati\", \"Kuwait\", \"Kyrgyzstan\", \"Laos\", \"Latvia\", \"Lebanon\", \"Lesotho\",\n",
    "     \"Liberia\", \"Libya\", \"Liechtenstein\", \"Lithuania\", \"Luxembourg\", \"Madagascar\", \"Malawi\", \"Malaysia\", \"Maldives\",\n",
    "     \"Mali\", \"Malta\", \"Marshall Islands\", \"auritania\", \"Mauritius\", \"Mexico\", \"Micronesia\", \"Moldova\", \"Monaco\",\n",
    "     \"Mongolia\", \"Montenegro\", \"Morocco\", \"Mozambique\", \"Myanmar (formerly Burma)\", \"Namibia\", \"Nauru\", \"Nepal\",\n",
    "     \"Netherlands\", \"New Zealand\", \"NicaraguaNiger\", \"Nigeria\", \"North Korea\", \"North Macedonia\", \"Norway\", \"Oman\",\n",
    "     \"Pakistan\", \"Palau\", \"Palestine State\", \"Panama\", \"Papua New Guinea])\", \"Paraguay\", \"Peru\", \"Philippines\",\n",
    "     \"Poland\", \"Portugal\", \"Qatar\", \"Romania\", \"Russia\", \"Rwanda\", \"Saint Kitts\", \"Saint Lucia\",\n",
    "     \"Saint Vincent\", \"Samoa\", \"San Marino\", \"Sao Tome\", \"Saudi Arabia\", \"Senegal\", \"Serbia\", \"Seychelles\",\n",
    "     \"Sierra Leone\", \"Singapore\", \"Slovakia\", \"Slovenia\", \"Solomon Islands\", \"Somalia\", \"South Africa\",\n",
    "     \"South Korea\", \"South Sudan\", \"Spain\", \"Sri Lanka\", \"Sudan\", \"Suriname\", \"Sweden\", \"Switzerland\", \"Syria\",\n",
    "     \"Tajikistan\", \"Tanzania\", \"Thailand\", \"Timor - Leste\", \"Togo\", \"Tonga\", \"Trinidad\", \"Tunisia\", \"Turkey\",\n",
    "     \"Turkmenistan\", \"Tuvalu\", \"Uganda\", \"Ukraine\", \"United Arab Emirates\", \"United Kingdom\",\n",
    "     \"United States of America\", \"Uruguay\", \"Uzbekistan\", \"Vanuatu\", \"Venezuela\", \"Vietnam\", \"Yemen\", \"Zambia\",\n",
    "     \"Zimbabwe\"])\n",
    "\n",
    "\n"
   ]
  },
  {
   "cell_type": "code",
   "execution_count": 7,
   "metadata": {},
   "outputs": [
    {
     "name": "stdout",
     "output_type": "stream",
     "text": [
      "193\n"
     ]
    }
   ],
   "source": [
    "print(len(country))"
   ]
  },
  {
   "cell_type": "code",
   "execution_count": 8,
   "metadata": {},
   "outputs": [
    {
     "name": "stdout",
     "output_type": "stream",
     "text": [
      "['Afghanistan', 'Albania', 'Algeria', 'Andorra', 'Angola', 'Antigua and Barbuda', 'Argentina', 'Armenia', 'Australia', 'Austria']\n"
     ]
    }
   ],
   "source": [
    "print(country[:10])\n",
    "\n"
   ]
  },
  {
   "cell_type": "code",
   "execution_count": 9,
   "metadata": {},
   "outputs": [
    {
     "name": "stdout",
     "output_type": "stream",
     "text": [
      "['Azerbaijan', 'Bahamas', 'Bahrain', 'Bangladesh', 'Barbados', 'Belarus', 'Belgium', 'Belize', 'Benin', 'Bhutan', 'Bolivia', 'Bosnia and Herzegovina', 'Botswana', 'Brazil', 'Brunei ', 'BulgariaBurkina Faso', 'Burundi', '', \"Côte d'Ivoire\", 'Cabo Verde', 'Cambodia', 'Cameroon', 'Canada', 'Central African Republic', 'Chad', 'Chile', 'China', 'Colombia', 'Comoros', 'Congo (Congo-Brazzaville)', 'Costa Rica', 'Croatia', 'Cuba', 'Cyprus', 'Czechia (Czech Republic)', 'Democratic Republic of the Congo', 'Denmark', 'Djibouti', 'Dominica', 'Dominican Republic', 'Ecuador', 'Egypt', 'El Salvador', 'Equatorial Guinea', 'EritreaEstonia', 'swatini', 'Ethiopia', 'Fiji', 'Finland', 'France', 'Gabon', 'Gambia', 'Georgia', 'Germany', 'Ghana', 'Greece', 'Grenada', 'Guatemala', 'Guinea', 'Guinea-Bissau', 'Guyana', 'Haiti', 'Holy See', 'Honduras', 'Hungary', 'Iceland', 'India', 'Indonesia', 'Iran', 'Iraq', 'Ireland', 'Israel', 'Italy', 'Jamaica', 'Japan', 'Jordan', 'Kazakhstan', 'Kenya', 'Kiribati', 'Kuwait', 'Kyrgyzstan', 'Laos', 'Latvia', 'Lebanon', 'Lesotho', 'Liberia', 'Libya', 'Liechtenstein', 'Lithuania', 'Luxembourg', 'Madagascar', 'Malawi', 'Malaysia', 'Maldives', 'Mali', 'Malta', 'Marshall Islands', 'auritania', 'Mauritius', 'Mexico', 'Micronesia', 'Moldova', 'Monaco', 'Mongolia', 'Montenegro', 'Morocco', 'Mozambique', 'Myanmar (formerly Burma)', 'Namibia', 'Nauru', 'Nepal', 'Netherlands', 'New Zealand', 'NicaraguaNiger', 'Nigeria', 'North Korea', 'North Macedonia', 'Norway', 'Oman', 'Pakistan', 'Palau', 'Palestine State', 'Panama', 'Papua New Guinea])', 'Paraguay', 'Peru', 'Philippines', 'Poland', 'Portugal', 'Qatar', 'Romania', 'Russia', 'Rwanda', 'Saint Kitts', 'Saint Lucia', 'Saint Vincent', 'Samoa', 'San Marino', 'Sao Tome', 'Saudi Arabia', 'Senegal', 'Serbia', 'Seychelles', 'Sierra Leone', 'Singapore', 'Slovakia', 'Slovenia', 'Solomon Islands', 'Somalia', 'South Africa', 'South Korea', 'South Sudan', 'Spain', 'Sri Lanka', 'Sudan', 'Suriname', 'Sweden', 'Switzerland', 'Syria', 'Tajikistan', 'Tanzania', 'Thailand', 'Timor - Leste', 'Togo', 'Tonga', 'Trinidad', 'Tunisia', 'Turkey', 'Turkmenistan', 'Tuvalu', 'Uganda', 'Ukraine', 'United Arab Emirates', 'United Kingdom', 'United States of America', 'Uruguay', 'Uzbekistan', 'Vanuatu', 'Venezuela', 'Vietnam', 'Yemen', 'Zambia', 'Zimbabwe']\n"
     ]
    }
   ],
   "source": [
    "print(country[10:])\n",
    "\n"
   ]
  },
  {
   "cell_type": "code",
   "execution_count": 11,
   "metadata": {},
   "outputs": [
    {
     "name": "stdout",
     "output_type": "stream",
     "text": [
      "Random country\n",
      "Paraguay\n"
     ]
    }
   ],
   "source": [
    "print(\"Random country\")\n",
    "print(choice(country))\n"
   ]
  },
  {
   "cell_type": "code",
   "execution_count": 13,
   "metadata": {},
   "outputs": [
    {
     "name": "stdout",
     "output_type": "stream",
     "text": [
      "Countries in normal order\n",
      "Afghanistan,Albania,Algeria,Andorra,Angola,Antigua and Barbuda,Argentina,Armenia,Australia,Austria,Azerbaijan,Bahamas,Bahrain,Bangladesh,Barbados,Belarus,Belgium,Belize,Benin,Bhutan,Bolivia,Bosnia and Herzegovina,Botswana,Brazil,Brunei ,BulgariaBurkina Faso,Burundi,,Côte d'Ivoire,Cabo Verde,Cambodia,Cameroon,Canada,Central African Republic,Chad,Chile,China,Colombia,Comoros,Congo (Congo-Brazzaville),Costa Rica,Croatia,Cuba,Cyprus,Czechia (Czech Republic),Democratic Republic of the Congo,Denmark,Djibouti,Dominica,Dominican Republic,Ecuador,Egypt,El Salvador,Equatorial Guinea,EritreaEstonia,swatini,Ethiopia,Fiji,Finland,France,Gabon,Gambia,Georgia,Germany,Ghana,Greece,Grenada,Guatemala,Guinea,Guinea-Bissau,Guyana,Haiti,Holy See,Honduras,Hungary,Iceland,India,Indonesia,Iran,Iraq,Ireland,Israel,Italy,Jamaica,Japan,Jordan,Kazakhstan,Kenya,Kiribati,Kuwait,Kyrgyzstan,Laos,Latvia,Lebanon,Lesotho,Liberia,Libya,Liechtenstein,Lithuania,Luxembourg,Madagascar,Malawi,Malaysia,Maldives,Mali,Malta,Marshall Islands,auritania,Mauritius,Mexico,Micronesia,Moldova,Monaco,Mongolia,Montenegro,Morocco,Mozambique,Myanmar (formerly Burma),Namibia,Nauru,Nepal,Netherlands,New Zealand,NicaraguaNiger,Nigeria,North Korea,North Macedonia,Norway,Oman,Pakistan,Palau,Palestine State,Panama,Papua New Guinea]),Paraguay,Peru,Philippines,Poland,Portugal,Qatar,Romania,Russia,Rwanda,Saint Kitts,Saint Lucia,Saint Vincent,Samoa,San Marino,Sao Tome,Saudi Arabia,Senegal,Serbia,Seychelles,Sierra Leone,Singapore,Slovakia,Slovenia,Solomon Islands,Somalia,South Africa,South Korea,South Sudan,Spain,Sri Lanka,Sudan,Suriname,Sweden,Switzerland,Syria,Tajikistan,Tanzania,Thailand,Timor - Leste,Togo,Tonga,Trinidad,Tunisia,Turkey,Turkmenistan,Tuvalu,Uganda,Ukraine,United Arab Emirates,United Kingdom,United States of America,Uruguay,Uzbekistan,Vanuatu,Venezuela,Vietnam,Yemen,Zambia,Zimbabwe,"
     ]
    }
   ],
   "source": [
    "print(\"Countries in normal order\")\n",
    "\n",
    "for cntry in country:\n",
    "    print(cntry,end=\",\")\n"
   ]
  },
  {
   "cell_type": "code",
   "execution_count": 14,
   "metadata": {},
   "outputs": [
    {
     "name": "stdout",
     "output_type": "stream",
     "text": [
      "reversed\n",
      "Zimbabwe,Zambia,Yemen,Vietnam,Venezuela,Vanuatu,Uzbekistan,Uruguay,United States of America,United Kingdom,United Arab Emirates,Ukraine,Uganda,Tuvalu,Turkmenistan,Turkey,Tunisia,Trinidad,Tonga,Togo,Timor - Leste,Thailand,Tanzania,Tajikistan,Syria,Switzerland,Sweden,Suriname,Sudan,Sri Lanka,Spain,South Sudan,South Korea,South Africa,Somalia,Solomon Islands,Slovenia,Slovakia,Singapore,Sierra Leone,Seychelles,Serbia,Senegal,Saudi Arabia,Sao Tome,San Marino,Samoa,Saint Vincent,Saint Lucia,Saint Kitts,Rwanda,Russia,Romania,Qatar,Portugal,Poland,Philippines,Peru,Paraguay,Papua New Guinea]),Panama,Palestine State,Palau,Pakistan,Oman,Norway,North Macedonia,North Korea,Nigeria,NicaraguaNiger,New Zealand,Netherlands,Nepal,Nauru,Namibia,Myanmar (formerly Burma),Mozambique,Morocco,Montenegro,Mongolia,Monaco,Moldova,Micronesia,Mexico,Mauritius,auritania,Marshall Islands,Malta,Mali,Maldives,Malaysia,Malawi,Madagascar,Luxembourg,Lithuania,Liechtenstein,Libya,Liberia,Lesotho,Lebanon,Latvia,Laos,Kyrgyzstan,Kuwait,Kiribati,Kenya,Kazakhstan,Jordan,Japan,Jamaica,Italy,Israel,Ireland,Iraq,Iran,Indonesia,India,Iceland,Hungary,Honduras,Holy See,Haiti,Guyana,Guinea-Bissau,Guinea,Guatemala,Grenada,Greece,Ghana,Germany,Georgia,Gambia,Gabon,France,Finland,Fiji,Ethiopia,swatini,EritreaEstonia,Equatorial Guinea,El Salvador,Egypt,Ecuador,Dominican Republic,Dominica,Djibouti,Denmark,Democratic Republic of the Congo,Czechia (Czech Republic),Cyprus,Cuba,Croatia,Costa Rica,Congo (Congo-Brazzaville),Comoros,Colombia,China,Chile,Chad,Central African Republic,Canada,Cameroon,Cambodia,Cabo Verde,Côte d'Ivoire,,Burundi,BulgariaBurkina Faso,Brunei ,Brazil,Botswana,Bosnia and Herzegovina,Bolivia,Bhutan,Benin,Belize,Belgium,Belarus,Barbados,Bangladesh,Bahrain,Bahamas,Azerbaijan,Austria,Australia,Armenia,Argentina,Antigua and Barbuda,Angola,Andorra,Algeria,Albania,Afghanistan,"
     ]
    }
   ],
   "source": [
    "print(\"reversed\")\n",
    "for cntry in reversed(country):\n",
    "    print(cntry,end=\",\")\n"
   ]
  },
  {
   "cell_type": "code",
   "execution_count": null,
   "metadata": {},
   "outputs": [],
   "source": []
  }
 ],
 "metadata": {
  "kernelspec": {
   "display_name": "Python 3.9.12 ('base': conda)",
   "language": "python",
   "name": "python3"
  },
  "language_info": {
   "codemirror_mode": {
    "name": "ipython",
    "version": 3
   },
   "file_extension": ".py",
   "mimetype": "text/x-python",
   "name": "python",
   "nbconvert_exporter": "python",
   "pygments_lexer": "ipython3",
   "version": "3.9.12"
  },
  "orig_nbformat": 4,
  "vscode": {
   "interpreter": {
    "hash": "684eaf91f0c82c251197331a9b170263848bd9839206be4b47dd7c1270f07b54"
   }
  }
 },
 "nbformat": 4,
 "nbformat_minor": 2
}
