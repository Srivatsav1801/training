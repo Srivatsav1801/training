{
 "cells": [
  {
   "cell_type": "code",
   "execution_count": 28,
   "metadata": {},
   "outputs": [
    {
     "data": {
      "text/plain": [
       "[('White', 64),\n",
       " ('White', 128),\n",
       " ('White', 256),\n",
       " ('Gray', 64),\n",
       " ('Gray', 128),\n",
       " ('Gray', 256),\n",
       " ('Blue', 64),\n",
       " ('Blue', 128),\n",
       " ('Blue', 256)]"
      ]
     },
     "execution_count": 28,
     "metadata": {},
     "output_type": "execute_result"
    }
   ],
   "source": [
    "colors = ['White','Gray','Blue']\n",
    "storages = [64,128,256]\n",
    "phones = [(color, storage) for color in colors for storage in storages]\n",
    "phones"
   ]
  },
  {
   "cell_type": "code",
   "execution_count": 19,
   "metadata": {},
   "outputs": [
    {
     "name": "stdout",
     "output_type": "stream",
     "text": [
      "Patient Name    | Blood Pressure  | Temperature    \n",
      "Rohan           |             124 |              98\n",
      "John            |             130 |              95\n",
      "prasanna        |             110 |              98\n",
      "felix           |             120 |             102\n"
     ]
    }
   ],
   "source": [
    "check_up = [('Rohan',124,98),('John',130,95),('prasanna',110,98),('felix',120,102)]\n",
    "print('{:15} | {:15} | {:15}'.format('Patient Name', 'Blood Pressure', 'Temperature'))\n",
    "f = '{:15} | {:15} | {:15}'\n",
    "for (name,blood_pressure,temperature) in check_up: \n",
    "    print(f.format(name, blood_pressure, temperature))"
   ]
  },
  {
   "cell_type": "code",
   "execution_count": 20,
   "metadata": {},
   "outputs": [
    {
     "name": "stdout",
     "output_type": "stream",
     "text": [
      "Patient Name    | Blood Pressure  | Temperature    \n",
      "John            | 120             | 98             \n",
      "Rahul           | 110             | 98             \n",
      "venket          | 143             | 97             \n"
     ]
    }
   ],
   "source": [
    "check_up = [] \n",
    "cdata = input(\"Please enter data about the patient:\\n\") \n",
    "while(cdata != ''): \n",
    "    check_up.append(tuple(cdata.split(\",\"))) \n",
    "    cdata = input() \n",
    "print('{:15} | {:15} | {:15}'.format('Patient Name', 'Blood Pressure', 'Temperature'))\n",
    "f = '{:15} | {:15} | {:15}'\n",
    "for (name,blood_pressure,temperature) in check_up: \n",
    "    print(f.format(name, blood_pressure, temperature))"
   ]
  },
  {
   "cell_type": "code",
   "execution_count": 21,
   "metadata": {},
   "outputs": [
    {
     "name": "stdout",
     "output_type": "stream",
     "text": [
      "Holidays:\n",
      "Festival        | Date           \n",
      "Gandhi Jayanti  | 2nd october    \n",
      "Ayudha Pooja    | 4th October    \n",
      "Diwali          | 24th and 25th October\n",
      "Christmas Day   | 25th December  \n"
     ]
    }
   ],
   "source": [
    "print(\"Holidays:\")\n",
    "holidays = [('Gandhi Jayanti','2nd october'),('Ayudha Pooja','4th October'),('Diwali','24th and 25th October'),('Christmas Day','25th December')]\n",
    "print('{:15} | {:15}'.format('Festival', 'Date'))\n",
    "f = '{:15} | {:15}'\n",
    "for (festival,date) in holidays: \n",
    "    print(f.format(festival, date))"
   ]
  },
  {
   "cell_type": "code",
   "execution_count": 12,
   "metadata": {},
   "outputs": [],
   "source": [
    "from collections import namedtuple\n",
    "holiday = namedtuple('holiday','Festival Date')\n",
    "hd1 = holiday('New year','1st of January 2023')"
   ]
  },
  {
   "cell_type": "code",
   "execution_count": 13,
   "metadata": {},
   "outputs": [
    {
     "data": {
      "text/plain": [
       "holiday(Festival='New year', Date='1st of January 2023')"
      ]
     },
     "execution_count": 13,
     "metadata": {},
     "output_type": "execute_result"
    }
   ],
   "source": [
    "hd1"
   ]
  },
  {
   "cell_type": "code",
   "execution_count": 21,
   "metadata": {},
   "outputs": [
    {
     "name": "stdout",
     "output_type": "stream",
     "text": [
      "sorting name in alphabatical order\n",
      "['Aravind', 'Aswin', 'Rahul', 'Rakesh', 'liam']\n",
      "sorting names in reverse alphabatical order:\n",
      "['liam', 'Rakesh', 'Rahul', 'Aswin', 'Aravind']\n",
      "sorting names according to the length of the names \n",
      "['liam', 'Rahul', 'Aswin', 'Rakesh', 'Aravind']\n",
      "sorting names accordint to the length of the names in reverse order\n",
      "['Aravind', 'Rakesh', 'Rahul', 'Aswin', 'liam']\n"
     ]
    }
   ],
   "source": [
    "def main():\n",
    "    names = []\n",
    "    name = input(\"Enter list of names:\")\n",
    "    names= name.split(',')\n",
    "    print(\"sorting name in alphabatical order\")\n",
    "    print(sorted(names))\n",
    "    print(\"sorting names in reverse alphabatical order:\")\n",
    "    print(sorted(names, reverse = True))\n",
    "    print(\"sorting names according to the length of the names \")\n",
    "    print(sorted(names, key = len, reverse = False))\n",
    "    print(\"sorting names accordint to the length of the names in reverse order\")\n",
    "    print(sorted(names, key = len, reverse=True))\n",
    "    \n",
    "if __name__ == \"__main__\":\n",
    "    main()"
   ]
  },
  {
   "cell_type": "code",
   "execution_count": 38,
   "metadata": {},
   "outputs": [
    {
     "name": "stdout",
     "output_type": "stream",
     "text": [
      "[('5', '1'), ('1', '2'), ('3', '6')]\n"
     ]
    }
   ],
   "source": [
    "def main():\n",
    "    list_of_tupels = [] \n",
    "    values = input(\"Datas:\\n\") \n",
    "    while(values != ''): \n",
    "        list_of_tupels.append(tuple(values.split(\",\"))) \n",
    "        values = input()\n",
    "    print(sorted(list_of_tupels,key =lambda x: x[1]))\n",
    "\n",
    "if __name__ == '__main__':\n",
    "    main()"
   ]
  },
  {
   "cell_type": "code",
   "execution_count": 28,
   "metadata": {},
   "outputs": [
    {
     "name": "stdout",
     "output_type": "stream",
     "text": [
      "Grade that Aswin has got is A\n"
     ]
    }
   ],
   "source": [
    "import bisect\n",
    "\n",
    "def get_grade(marks):\n",
    "    cutoffs  = [60, 70, 80 , 90]\n",
    "    grades = 'FDCBA'\n",
    "    i= bisect.bisect_right(cutoffs,marks)\n",
    "    return grades[i]\n",
    "\n",
    "def main():\n",
    "    name = input(\"Name: \")\n",
    "    marks = int(input(\"Marks: \"))\n",
    "    print(f\"Grade that {name} has got is {get_grade(marks)}\")\n",
    "        \n",
    "if __name__ == \"__main__\":\n",
    "    main()  "
   ]
  },
  {
   "cell_type": "code",
   "execution_count": 34,
   "metadata": {},
   "outputs": [
    {
     "name": "stdout",
     "output_type": "stream",
     "text": [
      "[70, 75, 69, 80, 91, 82, 91, 74]\n",
      "class average before adding a mark 79.0\n",
      "[70, 75, 69, 80, 89, 91, 82, 91, 74]\n",
      "class average after adding a mark 80.11111111111111\n"
     ]
    }
   ],
   "source": [
    "import bisect\n",
    "\n",
    "def insert_mark(a,mark):\n",
    "    bisect.insort_right(a,mark)\n",
    "    return a \n",
    "\n",
    "def avg(a):\n",
    "    sum = 0\n",
    "    for mk in a :\n",
    "        sum = sum + mk \n",
    "    average = sum/len(a)\n",
    "    return average\n",
    "\n",
    "def main():\n",
    "    a = [70,75,69,80,91,82,91,74] \n",
    "    mark = int(input(\"enter the mark:\"))\n",
    "    print(a)\n",
    "    print(f\"class average before adding a mark {avg(a)}\")\n",
    "    a = insert_mark(a,mark)\n",
    "    print(a)\n",
    "    print(f\"class average after adding a mark {avg(a)}\")\n",
    "        \n",
    "if __name__ == \"__main__\":\n",
    "    main()  "
   ]
  },
  {
   "cell_type": "code",
   "execution_count": 43,
   "metadata": {},
   "outputs": [
    {
     "name": "stdout",
     "output_type": "stream",
     "text": [
      "3232 ID is vaild\n"
     ]
    }
   ],
   "source": [
    "import array\n",
    "\n",
    "def id_checker(id_no,n):\n",
    "    for e in id_no:\n",
    "        if e == n:\n",
    "            return f\"{n} ID is vaild\"\n",
    "    return f\"{n} ID is not valid\"\n",
    "        \n",
    "def main():\n",
    "    id_no = array.array('i',[1293,3232,2123,8290,2194,2211,2325,2765,3257])\n",
    "    n = int(input(\"Enter you Id No:\"))\n",
    "    print(id_checker(id_no,n))\n",
    "\n",
    "if __name__ == \"__main__\":\n",
    "    main()"
   ]
  },
  {
   "cell_type": "code",
   "execution_count": 5,
   "metadata": {},
   "outputs": [
    {
     "name": "stdout",
     "output_type": "stream",
     "text": [
      "1293 ID is vaild\n"
     ]
    }
   ],
   "source": [
    "import numpy\n",
    "\n",
    "def id_checker(id_no,n):\n",
    "    for e in id_no:\n",
    "        if e == n:\n",
    "            return f\"{n} ID is vaild\"\n",
    "    return f\"{n} ID is not valid\"\n",
    "        \n",
    "def main():\n",
    "    id_no = numpy.array([1293,3232,2123,8290,2194,2211,2325,2765,3257])\n",
    "    n = int(input(\"Enter you Id No:\"))\n",
    "    print(id_checker(id_no,n))\n",
    "\n",
    "if __name__ == \"__main__\":\n",
    "    main()\n"
   ]
  },
  {
   "cell_type": "code",
   "execution_count": 23,
   "metadata": {},
   "outputs": [
    {
     "name": "stdout",
     "output_type": "stream",
     "text": [
      "[[1 2]\n",
      " [3 4]]\n",
      " *\n",
      "[[0 9]\n",
      " [8 7]]\n",
      " =\n",
      "[[ 0 18]\n",
      " [24 28]]\n"
     ]
    }
   ],
   "source": [
    "import numpy\n",
    "\n",
    "def add_m(m1,m2):\n",
    "    print(f\"{m1}\\n +\")\n",
    "    print(f\"{m2}\\n =\")\n",
    "    m3 = numpy.add(m1,m2)\n",
    "    print(m3)\n",
    "\n",
    "def sub_m(m1,m2):\n",
    "    print(f\"{m1}\\n -\")\n",
    "    print(f\"{m2}\\n =\")\n",
    "    m3 = numpy.subtract(m1,m2)\n",
    "    print(m3)\n",
    "\n",
    "def multi_m(m1,m2):\n",
    "    print(f\"{m1}\\n *\")\n",
    "    print(f\"{m2}\\n =\")\n",
    "    m3 = numpy.multiply(m1,m2)\n",
    "    print(m3)\n",
    "    \n",
    "def main():  \n",
    "    row1 = int(input(\"Enter no of rows in first matrix: \"))\n",
    "    col1 = int(input(\"Enter no of column in first matrix: \"))\n",
    "    row2 = int(input(\"Enter no of rows in second matrix: \"))\n",
    "    col2 = int(input(\"Enter no of column in second matrix: \"))\n",
    "    el1 = list(map(int,input(\"enter matrix 1 elements: \").split()))\n",
    "    el2 = list(map(int,input(\"enter matrix 2 elements: \").split()))\n",
    "    m1 = numpy.array(el1).reshape(row1,col1)\n",
    "    m2 = numpy.array(el2).reshape(row2,col2)\n",
    "    i = int(input(\"1.Addition\\n2.Subraction\\n3.Multiplication\\n Choose your option: \"))\n",
    "    if i == 1:\n",
    "        if row1 == row2 and col1 == col2:\n",
    "            add_m(m1,m2)\n",
    "        else:\n",
    "            print(\"matrix addition not possible\")\n",
    "    elif i == 2:\n",
    "        if row1 == row2 and col1 == col2:\n",
    "            sub_m(m1,m2)\n",
    "        else:\n",
    "            print(\"matrix subraction not possible\")\n",
    "    elif i == 3:\n",
    "        if col1 == row2:\n",
    "            multi_m(m1,m2)\n",
    "        else:\n",
    "            print(\"matrix multiplication not possible\")\n",
    "    else:\n",
    "        print(\"option not found\")        \n",
    "    \n",
    "\n",
    "if __name__ == \"__main__\":\n",
    "    main()\n"
   ]
  },
  {
   "cell_type": "code",
   "execution_count": 34,
   "metadata": {},
   "outputs": [
    {
     "name": "stdout",
     "output_type": "stream",
     "text": [
      "[[1 2]\n",
      " [3 4]]\n",
      " +\n",
      "[[0 9]\n",
      " [8 7]]\n",
      " =\n",
      "[[ 1 11]\n",
      " [11 11]]\n"
     ]
    }
   ],
   "source": [
    "import numpy\n",
    "\n",
    "def add_m(m1,m2):\n",
    "    print(f\"{m1}\\n +\")\n",
    "    print(f\"{m2}\\n =\")\n",
    "    m3 = numpy.add(m1,m2)\n",
    "    print(m3)\n",
    "\n",
    "def sub_m(m1,m2):\n",
    "    print(f\"{m1}\\n -\")\n",
    "    print(f\"{m2}\\n =\")\n",
    "    m3 = numpy.subtract(m1,m2)\n",
    "    print(m3)\n",
    "\n",
    "def multi_m(m1,m2):\n",
    "    print(f\"{m1}\\n *\")\n",
    "    print(f\"{m2}\\n =\")\n",
    "    m3 = numpy.multiply(m1,m2)\n",
    "    print(m3)\n",
    "    \n",
    "def main():  \n",
    "    row1 = int(input(\"Enter no of rows in first matrix: \"))\n",
    "    col1 = int(input(\"Enter no of column in first matrix: \"))\n",
    "    row2 = int(input(\"Enter no of rows in second matrix: \"))\n",
    "    col2 = int(input(\"Enter no of column in second matrix: \"))\n",
    "    el1 = list(map(int,input(\"enter matrix 1 elements: \").split()))\n",
    "    el2 = list(map(int,input(\"enter matrix 2 elements: \").split()))\n",
    "    m1 = numpy.array(el1).reshape(row1,col1)\n",
    "    m2 = numpy.array(el2).reshape(row2,col2)\n",
    "    i = int(input(\"1.Addition\\n2.Subraction\\n3.Multiplication\\n Choose your option: \"))\n",
    "    if i == 1:\n",
    "        if row1 == row2 and col1 == col2:\n",
    "            add_m(m1,m2)\n",
    "        else:\n",
    "            print(\"matrix addition not possible\")\n",
    "    elif i == 2:\n",
    "        if row1 == row2 and col1 == col2:\n",
    "            sub_m(m1,m2)\n",
    "        else:\n",
    "            print(\"matrix subraction not possible\")\n",
    "    elif i == 3:\n",
    "        if col1 == row2:\n",
    "            multi_m(m1,m2)\n",
    "        else:\n",
    "            print(\"matrix multiplication not possible\")\n",
    "    else:\n",
    "        print(\"option not found\")        \n",
    "    \n",
    "\n",
    "if __name__ == \"__main__\":\n",
    "    main()\n"
   ]
  },
  {
   "cell_type": "code",
   "execution_count": 35,
   "metadata": {},
   "outputs": [
    {
     "name": "stdout",
     "output_type": "stream",
     "text": [
      "[[1 2]\n",
      " [3 4]]\n",
      " -\n",
      "[[0 9]\n",
      " [8 7]]\n",
      " =\n",
      "[[ 1 -7]\n",
      " [-5 -3]]\n"
     ]
    }
   ],
   "source": [
    "import numpy\n",
    "\n",
    "def add_m(m1,m2):\n",
    "    print(f\"{m1}\\n +\")\n",
    "    print(f\"{m2}\\n =\")\n",
    "    m3 = numpy.add(m1,m2)\n",
    "    print(m3)\n",
    "\n",
    "def sub_m(m1,m2):\n",
    "    print(f\"{m1}\\n -\")\n",
    "    print(f\"{m2}\\n =\")\n",
    "    m3 = numpy.subtract(m1,m2)\n",
    "    print(m3)\n",
    "\n",
    "def multi_m(m1,m2):\n",
    "    print(f\"{m1}\\n *\")\n",
    "    print(f\"{m2}\\n =\")\n",
    "    m3 = numpy.multiply(m1,m2)\n",
    "    print(m3)\n",
    "    \n",
    "def main():  \n",
    "    row1 = int(input(\"Enter no of rows in first matrix: \"))\n",
    "    col1 = int(input(\"Enter no of column in first matrix: \"))\n",
    "    row2 = int(input(\"Enter no of rows in second matrix: \"))\n",
    "    col2 = int(input(\"Enter no of column in second matrix: \"))\n",
    "    el1 = list(map(int,input(\"enter matrix 1 elements: \").split()))\n",
    "    el2 = list(map(int,input(\"enter matrix 2 elements: \").split()))\n",
    "    m1 = numpy.array(el1).reshape(row1,col1)\n",
    "    m2 = numpy.array(el2).reshape(row2,col2)\n",
    "    i = int(input(\"1.Addition\\n2.Subraction\\n3.Multiplication\\n Choose your option: \"))\n",
    "    if i == 1:\n",
    "        if row1 == row2 and col1 == col2:\n",
    "            add_m(m1,m2)\n",
    "        else:\n",
    "            print(\"matrix addition not possible\")\n",
    "    elif i == 2:\n",
    "        if row1 == row2 and col1 == col2:\n",
    "            sub_m(m1,m2)\n",
    "        else:\n",
    "            print(\"matrix subraction not possible\")\n",
    "    elif i == 3:\n",
    "        if col1 == row2:\n",
    "            multi_m(m1,m2)\n",
    "        else:\n",
    "            print(\"matrix multiplication not possible\")\n",
    "    else:\n",
    "        print(\"option not found\")        \n",
    "    \n",
    "\n",
    "if __name__ == \"__main__\":\n",
    "    main()\n"
   ]
  },
  {
   "cell_type": "code",
   "execution_count": 33,
   "metadata": {},
   "outputs": [
    {
     "name": "stdout",
     "output_type": "stream",
     "text": [
      "deque(['Mar', 'Apr', 'May', 'Jun', 'July', 'Aug', 'Sept', 'Oct', 'Nov', 'Jan', 'Wed'], maxlen=12)\n",
      "deque(['Feb', 'Mar', 'Apr', 'May', 'Jun', 'July', 'Aug', 'Sept', 'Oct', 'Nov', 'Jan', 'Wed'], maxlen=12)\n",
      "deque(['Feb', 'Mar', 'Apr', 'May', 'Jun', 'July', 'Aug', 'Sept', 'Oct', 'Nov', 'Jan'], maxlen=12)\n",
      "deque(['Jan', 'Feb', 'Mar', 'Apr', 'May', 'Jun', 'July', 'Aug', 'Sept', 'Oct', 'Nov'], maxlen=12)\n",
      "deque(['Jan', 'Feb', 'Mar', 'Apr', 'May', 'Jun', 'July', 'Aug', 'Sept', 'Oct', 'Nov', 'Dec'], maxlen=12)\n"
     ]
    }
   ],
   "source": [
    "from collections import deque\n",
    "\n",
    "months = deque([\"Mar\",\"Apr\",\"May\",\"Jun\",\"July\",\"Aug\",\"Sept\",\"Oct\",\"Nov\",\"Jan\",\"Wed\"],maxlen=12)\n",
    "print(months)\n",
    "months.appendleft(\"Feb\")\n",
    "print(months)\n",
    "months.remove(\"Wed\")\n",
    "print(months)\n",
    "months.rotate(1)\n",
    "print(months)\n",
    "months.append(\"Dec\")\n",
    "print(months)"
   ]
  },
  {
   "cell_type": "code",
   "execution_count": null,
   "metadata": {},
   "outputs": [],
   "source": []
  }
 ],
 "metadata": {
  "kernelspec": {
   "display_name": "Python 3.9.12 ('base': conda)",
   "language": "python",
   "name": "python3"
  },
  "language_info": {
   "codemirror_mode": {
    "name": "ipython",
    "version": 3
   },
   "file_extension": ".py",
   "mimetype": "text/x-python",
   "name": "python",
   "nbconvert_exporter": "python",
   "pygments_lexer": "ipython3",
   "version": "3.9.12"
  },
  "orig_nbformat": 4,
  "vscode": {
   "interpreter": {
    "hash": "684eaf91f0c82c251197331a9b170263848bd9839206be4b47dd7c1270f07b54"
   }
  }
 },
 "nbformat": 4,
 "nbformat_minor": 2
}
