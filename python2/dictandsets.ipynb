{
 "cells": [
  {
   "cell_type": "code",
   "execution_count": 3,
   "metadata": {},
   "outputs": [
    {
     "name": "stdout",
     "output_type": "stream",
     "text": [
      "OrderedDict([('Rahul', '98'), ('Kishan', '88'), ('Rohan', '78'), ('Krishna', '90')])\n"
     ]
    }
   ],
   "source": [
    "from collections import OrderedDict\n",
    "ns = [] \n",
    "values = input(\"Name and scores:\") \n",
    "while(values != ''): \n",
    "    ns.append(tuple(values.split(\",\"))) \n",
    "    values = input()\n",
    "dict1 = OrderedDict(ns)\n",
    "print(dict1)\n",
    "\n"
   ]
  },
  {
   "cell_type": "code",
   "execution_count": 2,
   "metadata": {},
   "outputs": [
    {
     "name": "stdout",
     "output_type": "stream",
     "text": [
      "odict_keys(['Rahul', 'Kishan', 'Rohan', 'Krishna'])\n"
     ]
    }
   ],
   "source": [
    "print(dict1.keys())"
   ]
  },
  {
   "cell_type": "code",
   "execution_count": 5,
   "metadata": {},
   "outputs": [
    {
     "data": {
      "text/plain": [
       "' 98'"
      ]
     },
     "execution_count": 5,
     "metadata": {},
     "output_type": "execute_result"
    }
   ],
   "source": [
    "dict1['Rahul']"
   ]
  },
  {
   "cell_type": "code",
   "execution_count": 6,
   "metadata": {},
   "outputs": [
    {
     "data": {
      "text/plain": [
       "' 88'"
      ]
     },
     "execution_count": 6,
     "metadata": {},
     "output_type": "execute_result"
    }
   ],
   "source": [
    "dict1['Kishan']"
   ]
  },
  {
   "cell_type": "code",
   "execution_count": 7,
   "metadata": {},
   "outputs": [
    {
     "data": {
      "text/plain": [
       "'78'"
      ]
     },
     "execution_count": 7,
     "metadata": {},
     "output_type": "execute_result"
    }
   ],
   "source": [
    "dict1['Rohan']"
   ]
  },
  {
   "cell_type": "code",
   "execution_count": 8,
   "metadata": {},
   "outputs": [
    {
     "data": {
      "text/plain": [
       "' 90'"
      ]
     },
     "execution_count": 8,
     "metadata": {},
     "output_type": "execute_result"
    }
   ],
   "source": [
    "dict1['Krishna']"
   ]
  },
  {
   "cell_type": "code",
   "execution_count": 9,
   "metadata": {},
   "outputs": [],
   "source": [
    "from collections import ChainMap\n",
    "c1 = {2121:'Rahul',3221:'Rohan',4372:'Aswin'}\n",
    "c2 = {8785:'Yokesh',2212:'Nirmal',2323:'Sathyan'}\n",
    "\n",
    "d = ChainMap(c1,c2)"
   ]
  },
  {
   "cell_type": "code",
   "execution_count": 10,
   "metadata": {},
   "outputs": [
    {
     "name": "stdout",
     "output_type": "stream",
     "text": [
      "Rahul\n"
     ]
    }
   ],
   "source": [
    "print(d[2121])"
   ]
  },
  {
   "cell_type": "code",
   "execution_count": 11,
   "metadata": {},
   "outputs": [
    {
     "name": "stdout",
     "output_type": "stream",
     "text": [
      "Nirmal\n"
     ]
    }
   ],
   "source": [
    "print(d[2212])"
   ]
  },
  {
   "cell_type": "code",
   "execution_count": 13,
   "metadata": {},
   "outputs": [
    {
     "name": "stdout",
     "output_type": "stream",
     "text": [
      "Counter({'s': 2, 'v': 2, 'a': 2, 'r': 1, 'i': 1, 't': 1})\n"
     ]
    }
   ],
   "source": [
    "from collections import Counter\n",
    "\n",
    "\n",
    "a = Counter(\"srivatsav\")\n",
    "print(a)"
   ]
  },
  {
   "cell_type": "code",
   "execution_count": 14,
   "metadata": {},
   "outputs": [
    {
     "name": "stdout",
     "output_type": "stream",
     "text": [
      "Counter({'a': 3, 'b': 1, 'c': 1, 'd': 1})\n"
     ]
    }
   ],
   "source": [
    "b = Counter(['a','a','b','c','d','a'])\n",
    "print(b)"
   ]
  },
  {
   "cell_type": "code",
   "execution_count": 15,
   "metadata": {},
   "outputs": [],
   "source": [
    "c = Counter({\"animal\":\"Dog\",\"breed\":\"Dalmation\"})"
   ]
  },
  {
   "cell_type": "code",
   "execution_count": 16,
   "metadata": {},
   "outputs": [
    {
     "name": "stdout",
     "output_type": "stream",
     "text": [
      "Counter({'animal': 'Dog', 'breed': 'Dalmation'})\n"
     ]
    }
   ],
   "source": [
    "print(c)"
   ]
  },
  {
   "cell_type": "code",
   "execution_count": 17,
   "metadata": {},
   "outputs": [
    {
     "name": "stdout",
     "output_type": "stream",
     "text": [
      "Counter({'juice': 7, 'icecream': 6})\n"
     ]
    }
   ],
   "source": [
    "d = Counter(icecream = 6, juice = 7)\n",
    "print(d)"
   ]
  },
  {
   "cell_type": "code",
   "execution_count": 19,
   "metadata": {},
   "outputs": [
    {
     "data": {
      "text/plain": [
       "['icecream',\n",
       " 'icecream',\n",
       " 'icecream',\n",
       " 'icecream',\n",
       " 'icecream',\n",
       " 'icecream',\n",
       " 'juice',\n",
       " 'juice',\n",
       " 'juice',\n",
       " 'juice',\n",
       " 'juice',\n",
       " 'juice',\n",
       " 'juice']"
      ]
     },
     "execution_count": 19,
     "metadata": {},
     "output_type": "execute_result"
    }
   ],
   "source": [
    "list(d.elements())"
   ]
  },
  {
   "cell_type": "code",
   "execution_count": 29,
   "metadata": {},
   "outputs": [
    {
     "name": "stdout",
     "output_type": "stream",
     "text": [
      "Counter({'icecream': 4, 'juice': 4})\n",
      "Counter({'icecream': 2, 'juice': 1})\n",
      "Counter({'icecream': 4, 'juice': 4})\n"
     ]
    }
   ],
   "source": [
    "from collections import Counter\n",
    "nd = Counter(icecream =  2 , juice = 3)\n",
    "print(d)\n",
    "d.subtract(nd)\n",
    "print(d)\n",
    "d.update(nd)\n",
    "print(d)"
   ]
  },
  {
   "cell_type": "code",
   "execution_count": 31,
   "metadata": {},
   "outputs": [
    {
     "name": "stdout",
     "output_type": "stream",
     "text": [
      "Counter({'c': 16, 'a': 6, 'b': 3, 'd': 1})\n",
      "Counter({'c': 14, 'a': 2, 'b': 1})\n",
      "Counter({'a': 2, 'b': 1, 'c': 1})\n"
     ]
    }
   ],
   "source": [
    "e = Counter(a = 4, b = 2, c =15)\n",
    "f = Counter(['a','a','b','c','d'])\n",
    "print(e+f)\n",
    "print(e-f)\n",
    "print(e&f)\n"
   ]
  },
  {
   "cell_type": "code",
   "execution_count": 40,
   "metadata": {},
   "outputs": [
    {
     "name": "stdout",
     "output_type": "stream",
     "text": [
      "Unique no is :{1, 2, 3, 5, 6}\n",
      "{0, 1, 2, 3, 4, 5, 6, 7, 8, 9, 10}\n",
      "{1, 2, 3, 4, 5, 6, 7, 8, 9, 10}\n",
      "Union of two sets:\n",
      "{1, 2, 3, 4, 5, 6, 7, 8, 9, 10}\n",
      "intersection of two sets:\n",
      "{1, 2, 3, 5, 6}\n",
      "difference between two sets:\n",
      "{4, 7, 8, 9, 10}\n"
     ]
    }
   ],
   "source": [
    "numbers = {1,2,3,4,5,6,7,8,9,0}\n",
    "new_num = [1,2,2,3,5,6,6,6,3,2]\n",
    "uniq_no = set(new_num)\n",
    "print(f\"Unique no is :{uniq_no}\")\n",
    "numbers.add(10)\n",
    "print(numbers)\n",
    "numbers.remove(0)\n",
    "print(numbers)\n",
    "print(\"Union of two sets:\")\n",
    "print(numbers | uniq_no)\n",
    "print(\"intersection of two sets:\")\n",
    "print(numbers & uniq_no)\n",
    "print(\"difference between two sets:\")\n",
    "print(numbers - uniq_no)\n",
    "#sports team"
   ]
  },
  {
   "cell_type": "code",
   "execution_count": 59,
   "metadata": {},
   "outputs": [],
   "source": [
    "class Hash_table:  \n",
    "    def __init__(self):\n",
    "        self.MAX = 10\n",
    "        self.arr = [[] for i in range(self.MAX)]\n",
    "        \n",
    "    def get_hash(self, key):\n",
    "        hash = 0\n",
    "        for char in key:\n",
    "            hash += ord(char)\n",
    "        return hash % self.MAX\n",
    "    \n",
    "    def __getitem__(self, key):\n",
    "        n = self.get_hash(key)\n",
    "        for val in self.arr[n]:\n",
    "            if val[0] == key:\n",
    "                return val[1]\n",
    "            \n",
    "    def __setitem__(self, key, val):\n",
    "        hash_key = self.get_hash(key)\n",
    "        found = False\n",
    "        for i, element in enumerate(self.arr[hash_key]):\n",
    "            if len(element)==2 and element[0] == key:\n",
    "                self.arr[hash_key][i] = (key,val)\n",
    "                found = True\n",
    "        if not found:\n",
    "            self.arr[hash_key].append((key,val))\n",
    "        \n",
    "    def __delitem__(self, key):\n",
    "        n = self.get_hash(key)\n",
    "        for index, val in enumerate(self.arr[n]):\n",
    "            if val[0] == key:\n",
    "                print(\"del\",index)\n",
    "                del self.arr[n][index]\n",
    "\n",
    "def main():\n",
    "    h = Hash_table()\n",
    "\n",
    "if __name__=='__main__':\n",
    "    main()\n"
   ]
  },
  {
   "cell_type": "code",
   "execution_count": 66,
   "metadata": {},
   "outputs": [],
   "source": [
    "h = Hash_table()\n",
    "h[\"Rahul\"] = 98"
   ]
  },
  {
   "cell_type": "code",
   "execution_count": 67,
   "metadata": {},
   "outputs": [
    {
     "name": "stdout",
     "output_type": "stream",
     "text": [
      "98\n"
     ]
    }
   ],
   "source": [
    "print(h[\"Rahul\"])"
   ]
  },
  {
   "cell_type": "code",
   "execution_count": 68,
   "metadata": {},
   "outputs": [
    {
     "name": "stdout",
     "output_type": "stream",
     "text": [
      "[[], [], [], [], [], [], [], [], [('Rahul', 98)], []]\n"
     ]
    }
   ],
   "source": [
    "print(h.arr)"
   ]
  },
  {
   "cell_type": "code",
   "execution_count": 69,
   "metadata": {},
   "outputs": [],
   "source": [
    "h[\"Sakthi\"] = 87"
   ]
  },
  {
   "cell_type": "code",
   "execution_count": 70,
   "metadata": {},
   "outputs": [],
   "source": [
    "h[\"Jake\"] = 91\n"
   ]
  },
  {
   "cell_type": "code",
   "execution_count": 71,
   "metadata": {},
   "outputs": [
    {
     "name": "stdout",
     "output_type": "stream",
     "text": [
      "[[], [], [('Sakthi', 87)], [], [], [], [], [], [('Rahul', 98)], [('Jake', 91)]]\n"
     ]
    }
   ],
   "source": [
    "print(h.arr)"
   ]
  },
  {
   "cell_type": "code",
   "execution_count": 72,
   "metadata": {},
   "outputs": [
    {
     "name": "stdout",
     "output_type": "stream",
     "text": [
      "del 0\n"
     ]
    }
   ],
   "source": [
    "del h[\"Jake\"]"
   ]
  },
  {
   "cell_type": "code",
   "execution_count": 73,
   "metadata": {},
   "outputs": [
    {
     "name": "stdout",
     "output_type": "stream",
     "text": [
      "[[], [], [('Sakthi', 87)], [], [], [], [], [], [('Rahul', 98)], []]\n"
     ]
    }
   ],
   "source": [
    "print(h.arr)"
   ]
  },
  {
   "cell_type": "code",
   "execution_count": 74,
   "metadata": {},
   "outputs": [
    {
     "name": "stdout",
     "output_type": "stream",
     "text": [
      "{0, 1, 2, 3, 4, 5, 6, 7, 8, 9, 10, 11, 12, 13, 14, 15}\n",
      "{1, 2, 3, 4, 5, 6, 7, 8, 9, 10, 11, 12, 13, 14, 15}\n",
      "Students who are interested in sports:\n",
      "{1, 2, 3, 4, 5, 6, 7, 8, 10, 11, 13, 14, 15}\n",
      "Students interested in football and vollyball:\n",
      "{1, 5}\n",
      "Students interested in vollyball and basketball:\n",
      "{3}\n",
      "Students interested in football and basketball:\n",
      "{2, 10}\n",
      "Students not interested in sports:\n",
      "{9, 12}\n"
     ]
    }
   ],
   "source": [
    "def main():\n",
    "    students = {0,1,2,3,4,5,6,7,8,9,10,11,12,13,14,15}\n",
    "    st_football = {1,2,5,8,10}\n",
    "    st_vollyball = {1,3,4,5,6,7}\n",
    "    st_basketball = {2,13,14,15,11,10}\n",
    "    st_basketball.add(3)\n",
    "    print(students)\n",
    "    students.remove(0)\n",
    "    print(students)\n",
    "    print(\"Students who are interested in sports:\")\n",
    "    st_inter = st_football | st_vollyball | st_basketball\n",
    "    print(st_inter)\n",
    "    print(\"Students interested in football and vollyball:\")\n",
    "    print(st_football & st_vollyball)\n",
    "    print(\"Students interested in vollyball and basketball:\")\n",
    "    print(st_vollyball & st_basketball)\n",
    "    print(\"Students interested in football and basketball:\")\n",
    "    print(st_football & st_basketball)\n",
    "    print(\"Students not interested in sports:\")\n",
    "    print(students - st_inter)\n",
    "\n",
    "if __name__=='__main__':\n",
    "    main()\n"
   ]
  },
  {
   "cell_type": "code",
   "execution_count": 76,
   "metadata": {},
   "outputs": [
    {
     "name": "stdout",
     "output_type": "stream",
     "text": [
      "{}\n",
      "{'missing': []}\n"
     ]
    }
   ],
   "source": [
    "from collections import UserDict\n",
    "\n",
    "class my_defaultdict(UserDict):\n",
    "\n",
    "    def __init__(self, default_factory=None, *args, **kwargs):\n",
    "\n",
    "        super().__init__(*args, **kwargs)\n",
    "\n",
    "        if not callable(default_factory) and default_factory is not None:\n",
    "\n",
    "            raise TypeError('first argument must be callable or None')\n",
    "\n",
    "        self.default_factory = default_factory\n",
    "\n",
    "\n",
    "    def __missing__(self, key):\n",
    "\n",
    "        if self.default_factory is None:\n",
    "\n",
    "            raise KeyError(key)\n",
    "\n",
    "        if key not in self:\n",
    "\n",
    "            self[key] = self.default_factory()\n",
    "\n",
    "        return self[key]\n",
    "\n",
    "def main():\n",
    "    d1 = my_defaultdict(list)\n",
    "    print(d1)\n",
    "    d1['A']\n",
    "    print(d1)\n",
    "    \n",
    "if __name__ == '__main__':\n",
    "    main()\n",
    "    \n",
    "    "
   ]
  },
  {
   "cell_type": "code",
   "execution_count": 78,
   "metadata": {},
   "outputs": [
    {
     "ename": "KeyError",
     "evalue": "'B'",
     "output_type": "error",
     "traceback": [
      "\u001b[0;31m---------------------------------------------------------------------------\u001b[0m",
      "\u001b[0;31mKeyError\u001b[0m                                  Traceback (most recent call last)",
      "\u001b[1;32m/home/local/ZOHOCORP/srivat-pt6061/Documents/Python 2/dict_and_sets.ipynb Cell 30\u001b[0m in \u001b[0;36m<cell line: 2>\u001b[0;34m()\u001b[0m\n\u001b[1;32m      <a href='vscode-notebook-cell:/home/local/ZOHOCORP/srivat-pt6061/Documents/Python%202/dict_and_sets.ipynb#X44sZmlsZQ%3D%3D?line=0'>1</a>\u001b[0m d2 \u001b[39m=\u001b[39m my_defaultdict(\u001b[39mNone\u001b[39;00m)\n\u001b[0;32m----> <a href='vscode-notebook-cell:/home/local/ZOHOCORP/srivat-pt6061/Documents/Python%202/dict_and_sets.ipynb#X44sZmlsZQ%3D%3D?line=1'>2</a>\u001b[0m d2[\u001b[39m'\u001b[39;49m\u001b[39mB\u001b[39;49m\u001b[39m'\u001b[39;49m]\n\u001b[1;32m      <a href='vscode-notebook-cell:/home/local/ZOHOCORP/srivat-pt6061/Documents/Python%202/dict_and_sets.ipynb#X44sZmlsZQ%3D%3D?line=2'>3</a>\u001b[0m \u001b[39mprint\u001b[39m(d2)\n",
      "File \u001b[0;32m/usr/lib/python3.8/collections/__init__.py:1009\u001b[0m, in \u001b[0;36mUserDict.__getitem__\u001b[0;34m(self, key)\u001b[0m\n\u001b[1;32m   1007\u001b[0m     \u001b[39mreturn\u001b[39;00m \u001b[39mself\u001b[39m\u001b[39m.\u001b[39mdata[key]\n\u001b[1;32m   1008\u001b[0m \u001b[39mif\u001b[39;00m \u001b[39mhasattr\u001b[39m(\u001b[39mself\u001b[39m\u001b[39m.\u001b[39m\u001b[39m__class__\u001b[39m, \u001b[39m\"\u001b[39m\u001b[39m__missing__\u001b[39m\u001b[39m\"\u001b[39m):\n\u001b[0;32m-> 1009\u001b[0m     \u001b[39mreturn\u001b[39;00m \u001b[39mself\u001b[39;49m\u001b[39m.\u001b[39;49m\u001b[39m__class__\u001b[39;49m\u001b[39m.\u001b[39;49m\u001b[39m__missing__\u001b[39;49m(\u001b[39mself\u001b[39;49m, key)\n\u001b[1;32m   1010\u001b[0m \u001b[39mraise\u001b[39;00m \u001b[39mKeyError\u001b[39;00m(key)\n",
      "\u001b[1;32m/home/local/ZOHOCORP/srivat-pt6061/Documents/Python 2/dict_and_sets.ipynb Cell 30\u001b[0m in \u001b[0;36mmy_defaultdict.__missing__\u001b[0;34m(self, key)\u001b[0m\n\u001b[1;32m     <a href='vscode-notebook-cell:/home/local/ZOHOCORP/srivat-pt6061/Documents/Python%202/dict_and_sets.ipynb#X44sZmlsZQ%3D%3D?line=15'>16</a>\u001b[0m \u001b[39mdef\u001b[39;00m \u001b[39m__missing__\u001b[39m(\u001b[39mself\u001b[39m, key):\n\u001b[1;32m     <a href='vscode-notebook-cell:/home/local/ZOHOCORP/srivat-pt6061/Documents/Python%202/dict_and_sets.ipynb#X44sZmlsZQ%3D%3D?line=17'>18</a>\u001b[0m     \u001b[39mif\u001b[39;00m \u001b[39mself\u001b[39m\u001b[39m.\u001b[39mdefault_factory \u001b[39mis\u001b[39;00m \u001b[39mNone\u001b[39;00m:\n\u001b[0;32m---> <a href='vscode-notebook-cell:/home/local/ZOHOCORP/srivat-pt6061/Documents/Python%202/dict_and_sets.ipynb#X44sZmlsZQ%3D%3D?line=19'>20</a>\u001b[0m         \u001b[39mraise\u001b[39;00m \u001b[39mKeyError\u001b[39;00m(key)\n\u001b[1;32m     <a href='vscode-notebook-cell:/home/local/ZOHOCORP/srivat-pt6061/Documents/Python%202/dict_and_sets.ipynb#X44sZmlsZQ%3D%3D?line=21'>22</a>\u001b[0m     \u001b[39mif\u001b[39;00m key \u001b[39mnot\u001b[39;00m \u001b[39min\u001b[39;00m \u001b[39mself\u001b[39m:\n\u001b[1;32m     <a href='vscode-notebook-cell:/home/local/ZOHOCORP/srivat-pt6061/Documents/Python%202/dict_and_sets.ipynb#X44sZmlsZQ%3D%3D?line=23'>24</a>\u001b[0m         \u001b[39mself\u001b[39m[key] \u001b[39m=\u001b[39m \u001b[39mself\u001b[39m\u001b[39m.\u001b[39mdefault_factory()\n",
      "\u001b[0;31mKeyError\u001b[0m: 'B'"
     ]
    }
   ],
   "source": [
    "d2 = my_defaultdict(None)\n",
    "d2['B']\n",
    "print(d2)\n",
    "    "
   ]
  },
  {
   "cell_type": "code",
   "execution_count": 89,
   "metadata": {},
   "outputs": [
    {
     "name": "stdout",
     "output_type": "stream",
     "text": [
      "{'C': []}\n"
     ]
    }
   ],
   "source": [
    "d3 = dict()\n",
    "d3.setdefault('C',[])\n",
    "print(d3)\n"
   ]
  },
  {
   "cell_type": "code",
   "execution_count": 93,
   "metadata": {},
   "outputs": [
    {
     "name": "stdout",
     "output_type": "stream",
     "text": [
      "difference between tuple and set:\n",
      "Set:\n",
      "{1, 2, 3, 4, 6, -10}\n",
      "List:\n",
      "[1, 2, 3, 4, -10, 6]\n",
      "Set:\n",
      "{1, 2, 3, 4, 6, -10}\n",
      "List:\n",
      "[1, 2, 3, 4, -10, 6, 1, 2, 1]\n"
     ]
    }
   ],
   "source": [
    "print(\"difference between tuple and set:\")\n",
    "new_set1 = set([1,2,3,4,-10,6])\n",
    "print(f\"Set:\\n{new_set1}\")\n",
    "lis1 = [1,2,3,4,-10,6]\n",
    "print(f\"List:\\n{lis1}\")\n",
    "new_set2 = set([1,2,3,4,-10,6,1,2,1])\n",
    "print(f\"Set:\\n{new_set2}\")\n",
    "lis2 = [1,2,3,4,-10,6,1,2,1]\n",
    "print(f\"List:\\n{lis2}\")\n"
   ]
  },
  {
   "cell_type": "code",
   "execution_count": 95,
   "metadata": {},
   "outputs": [
    {
     "name": "stdout",
     "output_type": "stream",
     "text": [
      "List append:\n",
      "[1, 2, 3, 4, 5, [6, 7, 8, 9, 10]]\n"
     ]
    }
   ],
   "source": [
    "print(\"List append:\")\n",
    "listA = [1,2,3,4,5]\n",
    "listB = [6,7,8,9,10]\n",
    "\n",
    "listA.append(listB)\n",
    "print(listA)\n"
   ]
  },
  {
   "cell_type": "code",
   "execution_count": 98,
   "metadata": {},
   "outputs": [
    {
     "name": "stdout",
     "output_type": "stream",
     "text": [
      "Add a list to set\n"
     ]
    },
    {
     "ename": "TypeError",
     "evalue": "unhashable type: 'list'",
     "output_type": "error",
     "traceback": [
      "\u001b[0;31m---------------------------------------------------------------------------\u001b[0m",
      "\u001b[0;31mTypeError\u001b[0m                                 Traceback (most recent call last)",
      "\u001b[1;32m/home/local/ZOHOCORP/srivat-pt6061/Documents/Python 2/dict_and_sets.ipynb Cell 34\u001b[0m in \u001b[0;36m<cell line: 4>\u001b[0;34m()\u001b[0m\n\u001b[1;32m      <a href='vscode-notebook-cell:/home/local/ZOHOCORP/srivat-pt6061/Documents/Python%202/dict_and_sets.ipynb#X51sZmlsZQ%3D%3D?line=1'>2</a>\u001b[0m listA\u001b[39m=\u001b[39m[\u001b[39m1\u001b[39m,\u001b[39m2\u001b[39m,\u001b[39m3\u001b[39m,\u001b[39m4\u001b[39m,\u001b[39m5\u001b[39m] \n\u001b[1;32m      <a href='vscode-notebook-cell:/home/local/ZOHOCORP/srivat-pt6061/Documents/Python%202/dict_and_sets.ipynb#X51sZmlsZQ%3D%3D?line=2'>3</a>\u001b[0m setA \u001b[39m=\u001b[39m \u001b[39mset\u001b[39m() \n\u001b[0;32m----> <a href='vscode-notebook-cell:/home/local/ZOHOCORP/srivat-pt6061/Documents/Python%202/dict_and_sets.ipynb#X51sZmlsZQ%3D%3D?line=3'>4</a>\u001b[0m setA\u001b[39m.\u001b[39;49madd(listA)\n",
      "\u001b[0;31mTypeError\u001b[0m: unhashable type: 'list'"
     ]
    }
   ],
   "source": [
    "print(\"Add a list to set\")\n",
    "listA=[1,2,3,4,5] \n",
    "setA = set() \n",
    "setA.add(listA) "
   ]
  },
  {
   "cell_type": "code",
   "execution_count": 100,
   "metadata": {},
   "outputs": [
    {
     "data": {
      "text/plain": [
       "{1, 23, 3451, 'A', 'B'}"
      ]
     },
     "execution_count": 100,
     "metadata": {},
     "output_type": "execute_result"
    }
   ],
   "source": [
    "listB = [1,23,3451,'A','B']\n",
    "setB = set(listB)\n",
    "setB"
   ]
  },
  {
   "cell_type": "code",
   "execution_count": 103,
   "metadata": {},
   "outputs": [
    {
     "name": "stdout",
     "output_type": "stream",
     "text": [
      "1\n"
     ]
    }
   ],
   "source": [
    "print(listB[0])"
   ]
  },
  {
   "cell_type": "code",
   "execution_count": 104,
   "metadata": {},
   "outputs": [
    {
     "ename": "TypeError",
     "evalue": "'set' object is not subscriptable",
     "output_type": "error",
     "traceback": [
      "\u001b[0;31m---------------------------------------------------------------------------\u001b[0m",
      "\u001b[0;31mTypeError\u001b[0m                                 Traceback (most recent call last)",
      "\u001b[1;32m/home/local/ZOHOCORP/srivat-pt6061/Documents/Python 2/dict_and_sets.ipynb Cell 37\u001b[0m in \u001b[0;36m<cell line: 1>\u001b[0;34m()\u001b[0m\n\u001b[0;32m----> <a href='vscode-notebook-cell:/home/local/ZOHOCORP/srivat-pt6061/Documents/Python%202/dict_and_sets.ipynb#X54sZmlsZQ%3D%3D?line=0'>1</a>\u001b[0m \u001b[39mprint\u001b[39m(setB[\u001b[39m0\u001b[39;49m])\n",
      "\u001b[0;31mTypeError\u001b[0m: 'set' object is not subscriptable"
     ]
    }
   ],
   "source": [
    "print(setB[0])"
   ]
  },
  {
   "cell_type": "code",
   "execution_count": null,
   "metadata": {},
   "outputs": [],
   "source": [
    "  "
   ]
  }
 ],
 "metadata": {
  "kernelspec": {
   "display_name": "Python 3.8.10 64-bit",
   "language": "python",
   "name": "python3"
  },
  "language_info": {
   "codemirror_mode": {
    "name": "ipython",
    "version": 3
   },
   "file_extension": ".py",
   "mimetype": "text/x-python",
   "name": "python",
   "nbconvert_exporter": "python",
   "pygments_lexer": "ipython3",
   "version": "3.8.10"
  },
  "orig_nbformat": 4,
  "vscode": {
   "interpreter": {
    "hash": "916dbcbb3f70747c44a77c7bcd40155683ae19c65e1c03b4aa3499c5328201f1"
   }
  }
 },
 "nbformat": 4,
 "nbformat_minor": 2
}
